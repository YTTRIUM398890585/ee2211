{
 "cells": [
  {
   "cell_type": "markdown",
   "id": "55f5041a",
   "metadata": {},
   "source": [
    "# Import Numpy"
   ]
  },
  {
   "cell_type": "code",
   "execution_count": null,
   "id": "095657db",
   "metadata": {},
   "outputs": [],
   "source": [
    "import numpy as np"
   ]
  },
  {
   "cell_type": "markdown",
   "id": "67082afd",
   "metadata": {},
   "source": [
    "# Create a Numpy matrix"
   ]
  },
  {
   "cell_type": "markdown",
   "id": "ff55a62e",
   "metadata": {},
   "source": [
    "* From a list"
   ]
  },
  {
   "cell_type": "code",
   "execution_count": null,
   "id": "5f50c99d",
   "metadata": {},
   "outputs": [],
   "source": [
    "a = np.array([1, 2, 3])\n",
    "print(a)"
   ]
  },
  {
   "cell_type": "code",
   "execution_count": null,
   "id": "85c6ab64",
   "metadata": {},
   "outputs": [],
   "source": [
    "b = np.array([[1, 2, 3],\n",
    "              [4, 5, 6],\n",
    "              [7, 8, 9]])\n",
    "print(b)"
   ]
  },
  {
   "cell_type": "markdown",
   "id": "32037c50",
   "metadata": {},
   "source": [
    "* Identity matrix"
   ]
  },
  {
   "cell_type": "code",
   "execution_count": null,
   "id": "fcab420a",
   "metadata": {},
   "outputs": [],
   "source": [
    "a = np.eye(3)\n",
    "print(a)"
   ]
  },
  {
   "cell_type": "markdown",
   "id": "3f7699e1",
   "metadata": {},
   "source": [
    "* All-zero and all-one matrix"
   ]
  },
  {
   "cell_type": "code",
   "execution_count": null,
   "id": "09412f77",
   "metadata": {},
   "outputs": [],
   "source": [
    "a = np.zeros(3)\n",
    "print(a)"
   ]
  },
  {
   "cell_type": "code",
   "execution_count": null,
   "id": "7a4660ce",
   "metadata": {},
   "outputs": [],
   "source": [
    "b = np.zeros((2, 3))\n",
    "print(b)"
   ]
  },
  {
   "cell_type": "code",
   "execution_count": null,
   "id": "4263dc34",
   "metadata": {},
   "outputs": [],
   "source": [
    "a = np.ones(3)\n",
    "print(a)"
   ]
  },
  {
   "cell_type": "code",
   "execution_count": null,
   "id": "9f4252e9",
   "metadata": {},
   "outputs": [],
   "source": [
    "b = np.ones((2, 3))\n",
    "print(b)"
   ]
  },
  {
   "cell_type": "markdown",
   "id": "f2233a95",
   "metadata": {},
   "source": [
    "* Random matrix"
   ]
  },
  {
   "cell_type": "code",
   "execution_count": null,
   "id": "5e680f0f",
   "metadata": {},
   "outputs": [],
   "source": [
    "a = np.random.rand(5)\n",
    "print(a)"
   ]
  },
  {
   "cell_type": "code",
   "execution_count": null,
   "id": "b81764a0",
   "metadata": {},
   "outputs": [],
   "source": [
    "b = np.random.rand(3, 3)\n",
    "print(b)"
   ]
  },
  {
   "cell_type": "code",
   "execution_count": null,
   "id": "ab977590",
   "metadata": {},
   "outputs": [],
   "source": [
    "c = np.random.randn(5)\n",
    "print(c)"
   ]
  },
  {
   "cell_type": "code",
   "execution_count": null,
   "id": "f38d772c",
   "metadata": {},
   "outputs": [],
   "source": [
    "d = np.random.randn(3, 3)\n",
    "print(d)"
   ]
  },
  {
   "cell_type": "markdown",
   "id": "8c7bcedc",
   "metadata": {},
   "source": [
    "* Equal-distance array"
   ]
  },
  {
   "cell_type": "code",
   "execution_count": null,
   "id": "8b6c4556",
   "metadata": {},
   "outputs": [],
   "source": [
    "a = np.linspace(1, 100, 10)\n",
    "print(a)"
   ]
  },
  {
   "cell_type": "markdown",
   "id": "24546725",
   "metadata": {},
   "source": [
    "# Attributes of a Numpy matrix"
   ]
  },
  {
   "cell_type": "markdown",
   "id": "23c3cc58",
   "metadata": {},
   "source": [
    "* ndim"
   ]
  },
  {
   "cell_type": "code",
   "execution_count": null,
   "id": "ac2d6d0f",
   "metadata": {},
   "outputs": [],
   "source": [
    "a = np.random.rand(5)\n",
    "print(a.ndim)"
   ]
  },
  {
   "cell_type": "code",
   "execution_count": null,
   "id": "2f7cea37",
   "metadata": {},
   "outputs": [],
   "source": [
    "b = np.random.rand(3, 4)\n",
    "print(b.ndim)"
   ]
  },
  {
   "cell_type": "code",
   "execution_count": null,
   "id": "79053153",
   "metadata": {},
   "outputs": [],
   "source": [
    "print(b)"
   ]
  },
  {
   "cell_type": "markdown",
   "id": "d80910ec",
   "metadata": {},
   "source": [
    "* shape"
   ]
  },
  {
   "cell_type": "code",
   "execution_count": null,
   "id": "b432def9",
   "metadata": {},
   "outputs": [],
   "source": [
    "a = np.random.rand(5, 4)\n",
    "print(a.shape)"
   ]
  },
  {
   "cell_type": "code",
   "execution_count": null,
   "id": "b78d80c0",
   "metadata": {},
   "outputs": [],
   "source": [
    "b = np.random.rand(3)\n",
    "print(b.shape)"
   ]
  },
  {
   "cell_type": "markdown",
   "id": "a697e3b3",
   "metadata": {},
   "source": [
    "* dtype"
   ]
  },
  {
   "cell_type": "code",
   "execution_count": null,
   "id": "7d19697d",
   "metadata": {},
   "outputs": [],
   "source": [
    "a = np.random.rand(5)\n",
    "print(a.dtype)"
   ]
  },
  {
   "cell_type": "code",
   "execution_count": null,
   "id": "43bae157",
   "metadata": {},
   "outputs": [],
   "source": [
    "b = np.array([1, 2, 3])\n",
    "print(b.dtype)"
   ]
  },
  {
   "cell_type": "code",
   "execution_count": null,
   "id": "c1da4f7f",
   "metadata": {},
   "outputs": [],
   "source": [
    "b = b.astype(np.float64)\n",
    "print(b.dtype)"
   ]
  },
  {
   "cell_type": "markdown",
   "id": "1709b19a",
   "metadata": {},
   "source": [
    "# Index"
   ]
  },
  {
   "cell_type": "code",
   "execution_count": null,
   "id": "e8a6ed90",
   "metadata": {},
   "outputs": [],
   "source": [
    "a = np.array([[1, 2, 3], \n",
    "              [4, 5, 6]])\n",
    "print('a[0, 0] is %d' % a[0, 0])"
   ]
  },
  {
   "cell_type": "code",
   "execution_count": null,
   "id": "fcb954ad",
   "metadata": {},
   "outputs": [],
   "source": [
    "print('a[1, 2] is %d' % a[1, 2])"
   ]
  },
  {
   "cell_type": "code",
   "execution_count": null,
   "id": "955e8d07",
   "metadata": {},
   "outputs": [],
   "source": [
    "print('a[1, -1] is %d' % a[1, -1])"
   ]
  },
  {
   "cell_type": "code",
   "execution_count": null,
   "id": "b182cdb3",
   "metadata": {},
   "outputs": [],
   "source": [
    "print(a[:, 1])"
   ]
  },
  {
   "cell_type": "code",
   "execution_count": null,
   "id": "010c1d0d",
   "metadata": {},
   "outputs": [],
   "source": [
    "print(a[1, :])"
   ]
  },
  {
   "cell_type": "code",
   "execution_count": null,
   "id": "b30e6b40",
   "metadata": {},
   "outputs": [],
   "source": [
    "print(a[-1])"
   ]
  },
  {
   "cell_type": "code",
   "execution_count": null,
   "id": "e7e56715",
   "metadata": {},
   "outputs": [],
   "source": [
    "print(a[-1, :])"
   ]
  },
  {
   "cell_type": "code",
   "execution_count": null,
   "id": "99918320",
   "metadata": {},
   "outputs": [],
   "source": [
    "print(a[:, :])"
   ]
  },
  {
   "cell_type": "code",
   "execution_count": null,
   "id": "439cb803",
   "metadata": {},
   "outputs": [],
   "source": [
    "print(a)"
   ]
  },
  {
   "cell_type": "markdown",
   "id": "60d6364c",
   "metadata": {},
   "source": [
    "# Operations"
   ]
  },
  {
   "cell_type": "markdown",
   "id": "34f21770",
   "metadata": {},
   "source": [
    "* transpose"
   ]
  },
  {
   "cell_type": "code",
   "execution_count": null,
   "id": "62f48a94",
   "metadata": {},
   "outputs": [],
   "source": [
    "a = np.array([[1, 2, 3],\n",
    "              [4, 5, 6]])\n",
    "print(a)"
   ]
  },
  {
   "cell_type": "code",
   "execution_count": null,
   "id": "b602a6cd",
   "metadata": {},
   "outputs": [],
   "source": [
    "print(a.shape)"
   ]
  },
  {
   "cell_type": "code",
   "execution_count": null,
   "id": "1b53995e",
   "metadata": {},
   "outputs": [],
   "source": [
    "b = a.T\n",
    "print(b)"
   ]
  },
  {
   "cell_type": "code",
   "execution_count": null,
   "id": "f5af89bf",
   "metadata": {},
   "outputs": [],
   "source": [
    "print(b.shape)"
   ]
  },
  {
   "cell_type": "markdown",
   "id": "47fac1f7",
   "metadata": {},
   "source": [
    "* concatenation"
   ]
  },
  {
   "cell_type": "code",
   "execution_count": null,
   "id": "bf50f954",
   "metadata": {},
   "outputs": [],
   "source": [
    "a = np.array([[1, 2, 3],\n",
    "              [4, 5, 6]])\n",
    "print(a.shape)"
   ]
  },
  {
   "cell_type": "code",
   "execution_count": null,
   "id": "c56c965f",
   "metadata": {},
   "outputs": [],
   "source": [
    "b = np.array([[7, 8, 9]])\n",
    "print(b.shape)"
   ]
  },
  {
   "cell_type": "code",
   "execution_count": null,
   "id": "9d2a37ff",
   "metadata": {},
   "outputs": [],
   "source": [
    "c = np.array([[10], [10]])\n",
    "print(c.shape)"
   ]
  },
  {
   "cell_type": "code",
   "execution_count": null,
   "id": "c36f9802",
   "metadata": {},
   "outputs": [],
   "source": [
    "d = np.concatenate([a, b], axis=0)\n",
    "print(d)"
   ]
  },
  {
   "cell_type": "code",
   "execution_count": null,
   "id": "5ca81e93",
   "metadata": {},
   "outputs": [],
   "source": [
    "print(d.shape)"
   ]
  },
  {
   "cell_type": "code",
   "execution_count": null,
   "id": "1d59e319",
   "metadata": {},
   "outputs": [],
   "source": [
    "e = np.concatenate([a, c], axis=1)\n",
    "print(e)"
   ]
  },
  {
   "cell_type": "code",
   "execution_count": null,
   "id": "17812a8b",
   "metadata": {},
   "outputs": [],
   "source": [
    "print(e.shape)"
   ]
  },
  {
   "cell_type": "markdown",
   "id": "98a0fc40",
   "metadata": {},
   "source": [
    "* reshape"
   ]
  },
  {
   "cell_type": "code",
   "execution_count": null,
   "id": "d4c87b2a",
   "metadata": {},
   "outputs": [],
   "source": [
    "a = np.array([[1, 2, 3],\n",
    "              [4, 5, 6]])\n",
    "print(a)"
   ]
  },
  {
   "cell_type": "code",
   "execution_count": null,
   "id": "a31b284a",
   "metadata": {},
   "outputs": [],
   "source": [
    "print(a.shape)"
   ]
  },
  {
   "cell_type": "code",
   "execution_count": null,
   "id": "2776f160",
   "metadata": {},
   "outputs": [],
   "source": [
    "b = a.reshape((3, 2))\n",
    "print(b)"
   ]
  },
  {
   "cell_type": "code",
   "execution_count": null,
   "id": "8f290d86",
   "metadata": {},
   "outputs": [],
   "source": [
    "print(b.shape)"
   ]
  },
  {
   "cell_type": "markdown",
   "id": "2cd0ec74",
   "metadata": {},
   "source": [
    "* select"
   ]
  },
  {
   "cell_type": "code",
   "execution_count": null,
   "id": "aba7df03",
   "metadata": {},
   "outputs": [],
   "source": [
    "a = np.array([[1, 2, 3],\n",
    "              [4, 5, 6]])\n",
    "print(np.where(a > 2))"
   ]
  },
  {
   "cell_type": "code",
   "execution_count": null,
   "id": "bc2d82bb",
   "metadata": {},
   "outputs": [],
   "source": [
    "print(a[np.where(a > 2)])"
   ]
  },
  {
   "cell_type": "code",
   "execution_count": null,
   "id": "14da645b",
   "metadata": {},
   "outputs": [],
   "source": [
    "print(a[a > 2])"
   ]
  },
  {
   "cell_type": "markdown",
   "id": "a8c4983b",
   "metadata": {},
   "source": [
    "# Mathematical Operators"
   ]
  },
  {
   "cell_type": "code",
   "execution_count": null,
   "id": "e103c6d5",
   "metadata": {},
   "outputs": [],
   "source": [
    "a = np.array([[1, 2, 3],\n",
    "              [4, 5, 6]])\n",
    "print(a.shape)"
   ]
  },
  {
   "cell_type": "code",
   "execution_count": null,
   "id": "e8130b91",
   "metadata": {},
   "outputs": [],
   "source": [
    "b = np.array([[0.1, 0.2, 0.3],\n",
    "              [0.4, 0.5, 0.6]])\n",
    "print(b.shape)"
   ]
  },
  {
   "cell_type": "code",
   "execution_count": null,
   "id": "27d82c87",
   "metadata": {},
   "outputs": [],
   "source": [
    "c = np.array([[0.1, 0.2, 0.3]])\n",
    "print(c.shape)"
   ]
  },
  {
   "cell_type": "code",
   "execution_count": null,
   "id": "fbb82901",
   "metadata": {},
   "outputs": [],
   "source": [
    "d = 0.9"
   ]
  },
  {
   "cell_type": "markdown",
   "id": "04c42aba",
   "metadata": {},
   "source": [
    "* Addition"
   ]
  },
  {
   "cell_type": "code",
   "execution_count": null,
   "id": "cad91a7e",
   "metadata": {},
   "outputs": [],
   "source": [
    "print(a + b)"
   ]
  },
  {
   "cell_type": "code",
   "execution_count": null,
   "id": "4df8c13a",
   "metadata": {},
   "outputs": [],
   "source": [
    "print(a + c)"
   ]
  },
  {
   "cell_type": "code",
   "execution_count": null,
   "id": "8da8ac1c",
   "metadata": {},
   "outputs": [],
   "source": [
    "print(a + d)"
   ]
  },
  {
   "cell_type": "markdown",
   "id": "fb2f42c0",
   "metadata": {},
   "source": [
    "* Substraction"
   ]
  },
  {
   "cell_type": "code",
   "execution_count": null,
   "id": "1567f464",
   "metadata": {},
   "outputs": [],
   "source": [
    "print(a - b)"
   ]
  },
  {
   "cell_type": "code",
   "execution_count": null,
   "id": "733c41dc",
   "metadata": {},
   "outputs": [],
   "source": [
    "print(a - c)"
   ]
  },
  {
   "cell_type": "code",
   "execution_count": null,
   "id": "135b883d",
   "metadata": {},
   "outputs": [],
   "source": [
    "print(a - d)"
   ]
  },
  {
   "cell_type": "markdown",
   "id": "09c99195",
   "metadata": {},
   "source": [
    "* Element-wise multiplication"
   ]
  },
  {
   "cell_type": "code",
   "execution_count": null,
   "id": "678f757c",
   "metadata": {},
   "outputs": [],
   "source": [
    "print(a * b)"
   ]
  },
  {
   "cell_type": "code",
   "execution_count": null,
   "id": "5a47f0f9",
   "metadata": {},
   "outputs": [],
   "source": [
    "print(a * c)"
   ]
  },
  {
   "cell_type": "code",
   "execution_count": null,
   "id": "e5782484",
   "metadata": {},
   "outputs": [],
   "source": [
    "print(a * d)"
   ]
  },
  {
   "cell_type": "markdown",
   "id": "d38d10e6",
   "metadata": {},
   "source": [
    "* Division"
   ]
  },
  {
   "cell_type": "code",
   "execution_count": null,
   "id": "8086005e",
   "metadata": {},
   "outputs": [],
   "source": [
    "print(a / b)"
   ]
  },
  {
   "cell_type": "code",
   "execution_count": null,
   "id": "b5457436",
   "metadata": {},
   "outputs": [],
   "source": [
    "print(a / c)"
   ]
  },
  {
   "cell_type": "code",
   "execution_count": null,
   "id": "38af8a81",
   "metadata": {},
   "outputs": [],
   "source": [
    "print(a / d)"
   ]
  },
  {
   "cell_type": "markdown",
   "id": "8649855b",
   "metadata": {},
   "source": [
    "* Matrix-wise multiplication"
   ]
  },
  {
   "cell_type": "code",
   "execution_count": null,
   "id": "b64bf732",
   "metadata": {},
   "outputs": [],
   "source": [
    "print(a @ b.T)"
   ]
  },
  {
   "cell_type": "code",
   "execution_count": null,
   "id": "b0c53b51",
   "metadata": {},
   "outputs": [],
   "source": [
    "print(a @ c.T)"
   ]
  },
  {
   "cell_type": "markdown",
   "id": "270122fd",
   "metadata": {},
   "source": [
    "* Inverse"
   ]
  },
  {
   "cell_type": "code",
   "execution_count": null,
   "id": "c125c9bc",
   "metadata": {},
   "outputs": [],
   "source": [
    "e = a @ b.T\n",
    "e_inv = np.linalg.inv(e)\n",
    "print(e_inv)"
   ]
  },
  {
   "cell_type": "code",
   "execution_count": null,
   "id": "303bef49",
   "metadata": {},
   "outputs": [],
   "source": [
    "f = e @ e_inv\n",
    "print(f)"
   ]
  },
  {
   "cell_type": "markdown",
   "id": "50f4b9bb",
   "metadata": {},
   "source": [
    "# Import Matplotlib"
   ]
  },
  {
   "cell_type": "code",
   "execution_count": null,
   "id": "5c08a65c",
   "metadata": {},
   "outputs": [],
   "source": [
    "import matplotlib.pyplot as plt"
   ]
  },
  {
   "cell_type": "code",
   "execution_count": null,
   "id": "e58069b4",
   "metadata": {},
   "outputs": [],
   "source": [
    "x = np.linspace(0, 4 * np.pi, 1000)\n",
    "y = np.sin(x)\n",
    "z = np.cos(x)"
   ]
  },
  {
   "cell_type": "code",
   "execution_count": null,
   "id": "ef1ed542",
   "metadata": {},
   "outputs": [],
   "source": [
    "plt.plot(x, y)\n",
    "plt.show()"
   ]
  },
  {
   "cell_type": "code",
   "execution_count": null,
   "id": "d69e6bd3",
   "metadata": {},
   "outputs": [],
   "source": [
    "plt.grid()\n",
    "plt.plot(x, y)\n",
    "plt.plot(x, z)\n",
    "plt.show()"
   ]
  },
  {
   "cell_type": "code",
   "execution_count": null,
   "id": "28c123ad",
   "metadata": {},
   "outputs": [],
   "source": [
    "plt.grid()\n",
    "plt.plot(x, y, c='red', label='sin')\n",
    "plt.plot(x, z, c='green', label='cos')\n",
    "plt.legend()\n",
    "plt.xlabel('Time')\n",
    "plt.ylabel('Value')\n",
    "plt.title('Sin and Cos')\n",
    "plt.show()"
   ]
  },
  {
   "cell_type": "code",
   "execution_count": null,
   "id": "77f20e64",
   "metadata": {},
   "outputs": [],
   "source": [
    "x = [1, 2, 3, 4, 5]\n",
    "y = [5, 4, 3, 2, 1]\n",
    "plt.bar(x, y)\n",
    "plt.show()"
   ]
  },
  {
   "cell_type": "code",
   "execution_count": null,
   "id": "a54750ea",
   "metadata": {},
   "outputs": [],
   "source": [
    "x = np.random.rand(5, 5) + 2 * np.eye(5)\n",
    "plt.imshow(x)\n",
    "plt.show()"
   ]
  }
 ],
 "metadata": {
  "kernelspec": {
   "display_name": "Python 3 (ipykernel)",
   "language": "python",
   "name": "python3"
  },
  "language_info": {
   "codemirror_mode": {
    "name": "ipython",
    "version": 3
   },
   "file_extension": ".py",
   "mimetype": "text/x-python",
   "name": "python",
   "nbconvert_exporter": "python",
   "pygments_lexer": "ipython3",
   "version": "3.11.5"
  }
 },
 "nbformat": 4,
 "nbformat_minor": 5
}
