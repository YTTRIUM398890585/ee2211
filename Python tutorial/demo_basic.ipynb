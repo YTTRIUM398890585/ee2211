{
 "cells": [
  {
   "cell_type": "markdown",
   "id": "4f5f45f2",
   "metadata": {},
   "source": [
    "# Variable"
   ]
  },
  {
   "cell_type": "code",
   "execution_count": null,
   "id": "3063d813",
   "metadata": {},
   "outputs": [],
   "source": [
    "# Integer\n",
    "a = 1\n",
    "# Float Number\n",
    "b = 2.3\n",
    "# String\n",
    "c = 'ee2211'\n",
    "d = \"ee2211\"\n",
    "# Boolean\n",
    "e = True\n",
    "f = False\n",
    "# List\n",
    "g = [1, 2, '3']\n",
    "# Tuple\n",
    "h = (a, b)\n",
    "i, j = 11, 22\n",
    "# Dictionary\n",
    "k = {'a': 0, 'b': 1, 'c': 2}"
   ]
  },
  {
   "cell_type": "markdown",
   "id": "bf1a2268",
   "metadata": {},
   "source": [
    "# Print"
   ]
  },
  {
   "cell_type": "code",
   "execution_count": null,
   "id": "bae09879",
   "metadata": {},
   "outputs": [],
   "source": [
    "print(a)"
   ]
  },
  {
   "cell_type": "code",
   "execution_count": null,
   "id": "2ff7b5ef",
   "metadata": {},
   "outputs": [],
   "source": [
    "print(b)"
   ]
  },
  {
   "cell_type": "code",
   "execution_count": null,
   "id": "51958e37",
   "metadata": {},
   "outputs": [],
   "source": [
    "print('The value of variable a is %d' % a)"
   ]
  },
  {
   "cell_type": "code",
   "execution_count": null,
   "id": "4bc134e2",
   "metadata": {},
   "outputs": [],
   "source": [
    "print(b)"
   ]
  },
  {
   "cell_type": "code",
   "execution_count": null,
   "id": "cb60740d",
   "metadata": {},
   "outputs": [],
   "source": [
    "print('The value of variable b is %f' % b)"
   ]
  },
  {
   "cell_type": "code",
   "execution_count": null,
   "id": "1416fa38",
   "metadata": {},
   "outputs": [],
   "source": [
    "print('The value of variable b is %.2f' % b)"
   ]
  },
  {
   "cell_type": "code",
   "execution_count": null,
   "id": "621b54ed",
   "metadata": {},
   "outputs": [],
   "source": [
    "print(c)"
   ]
  },
  {
   "cell_type": "code",
   "execution_count": null,
   "id": "91eefaa2",
   "metadata": {},
   "outputs": [],
   "source": [
    "print('The value of variable c is %s' % c)"
   ]
  },
  {
   "cell_type": "code",
   "execution_count": null,
   "id": "b04ea345",
   "metadata": {},
   "outputs": [],
   "source": [
    "print(d)"
   ]
  },
  {
   "cell_type": "code",
   "execution_count": null,
   "id": "7cf4b235",
   "metadata": {},
   "outputs": [],
   "source": [
    "print(e)"
   ]
  },
  {
   "cell_type": "code",
   "execution_count": null,
   "id": "4434cfe3",
   "metadata": {},
   "outputs": [],
   "source": [
    "print(f)"
   ]
  },
  {
   "cell_type": "code",
   "execution_count": null,
   "id": "54505de9",
   "metadata": {},
   "outputs": [],
   "source": [
    "print(g)"
   ]
  },
  {
   "cell_type": "code",
   "execution_count": null,
   "id": "e6e09f40",
   "metadata": {},
   "outputs": [],
   "source": [
    "print(h)"
   ]
  },
  {
   "cell_type": "code",
   "execution_count": null,
   "id": "e59111de",
   "metadata": {},
   "outputs": [],
   "source": [
    "print(i)"
   ]
  },
  {
   "cell_type": "code",
   "execution_count": null,
   "id": "9d487970",
   "metadata": {},
   "outputs": [],
   "source": [
    "print(j)"
   ]
  },
  {
   "cell_type": "code",
   "execution_count": null,
   "id": "4204a6b5",
   "metadata": {},
   "outputs": [],
   "source": [
    "print(k)"
   ]
  },
  {
   "cell_type": "markdown",
   "id": "51eee73a",
   "metadata": {},
   "source": [
    "# Numbers"
   ]
  },
  {
   "cell_type": "code",
   "execution_count": null,
   "id": "b6f8ea07",
   "metadata": {},
   "outputs": [],
   "source": [
    "a = 2\n",
    "b = 3"
   ]
  },
  {
   "cell_type": "code",
   "execution_count": null,
   "id": "d90a8a96",
   "metadata": {},
   "outputs": [],
   "source": [
    "x = a + b\n",
    "print(x)"
   ]
  },
  {
   "cell_type": "code",
   "execution_count": null,
   "id": "1b7d921b",
   "metadata": {},
   "outputs": [],
   "source": [
    "y = a - b\n",
    "print(y)"
   ]
  },
  {
   "cell_type": "code",
   "execution_count": null,
   "id": "5d4ba76a",
   "metadata": {},
   "outputs": [],
   "source": [
    "z = a * b\n",
    "print(z)"
   ]
  },
  {
   "cell_type": "code",
   "execution_count": null,
   "id": "1a469ec5",
   "metadata": {},
   "outputs": [],
   "source": [
    "u = b / a\n",
    "print(u)"
   ]
  },
  {
   "cell_type": "code",
   "execution_count": null,
   "id": "26d63c7d",
   "metadata": {},
   "outputs": [],
   "source": [
    "v = b // a\n",
    "print(v)"
   ]
  },
  {
   "cell_type": "code",
   "execution_count": null,
   "id": "ddd5db39",
   "metadata": {},
   "outputs": [],
   "source": [
    "w = b % a\n",
    "print(w)"
   ]
  },
  {
   "cell_type": "markdown",
   "id": "a7f751c5",
   "metadata": {},
   "source": [
    "# String"
   ]
  },
  {
   "cell_type": "code",
   "execution_count": null,
   "id": "d700e179",
   "metadata": {},
   "outputs": [],
   "source": [
    "a = '123'\n",
    "b = '456'"
   ]
  },
  {
   "cell_type": "code",
   "execution_count": null,
   "id": "5d124f20",
   "metadata": {},
   "outputs": [],
   "source": [
    "c = a + b + b + b\n",
    "print(c)"
   ]
  },
  {
   "cell_type": "code",
   "execution_count": null,
   "id": "24b00ff1",
   "metadata": {},
   "outputs": [],
   "source": [
    "d = a * 3\n",
    "print(d)"
   ]
  },
  {
   "cell_type": "code",
   "execution_count": null,
   "id": "736c98a6",
   "metadata": {},
   "outputs": [],
   "source": [
    "print(len(d))"
   ]
  },
  {
   "cell_type": "code",
   "execution_count": null,
   "id": "9c7b8658",
   "metadata": {},
   "outputs": [],
   "source": [
    "x = 1\n",
    "y = 2.2\n",
    "z = 'x is %d, y is %f, and x+y is %.1f' % (x, y, x + y)\n",
    "print(z)"
   ]
  },
  {
   "cell_type": "markdown",
   "id": "5c61d2e1",
   "metadata": {},
   "source": [
    "# Boolean"
   ]
  },
  {
   "cell_type": "code",
   "execution_count": null,
   "id": "3934fad6",
   "metadata": {},
   "outputs": [],
   "source": [
    "a = 1\n",
    "b = 2"
   ]
  },
  {
   "cell_type": "code",
   "execution_count": null,
   "id": "25a4ed22",
   "metadata": {},
   "outputs": [],
   "source": [
    "print(a > b)"
   ]
  },
  {
   "cell_type": "code",
   "execution_count": null,
   "id": "6e4a67f2",
   "metadata": {},
   "outputs": [],
   "source": [
    "print(a < b)"
   ]
  },
  {
   "cell_type": "code",
   "execution_count": null,
   "id": "c70ee5ee",
   "metadata": {},
   "outputs": [],
   "source": [
    "print(a >= b)"
   ]
  },
  {
   "cell_type": "code",
   "execution_count": null,
   "id": "ca315c77",
   "metadata": {},
   "outputs": [],
   "source": [
    "print(a <= b)"
   ]
  },
  {
   "cell_type": "code",
   "execution_count": null,
   "id": "25d7a24b",
   "metadata": {},
   "outputs": [],
   "source": [
    "c = 3\n",
    "d = 3"
   ]
  },
  {
   "cell_type": "code",
   "execution_count": null,
   "id": "f3bc5c9a",
   "metadata": {},
   "outputs": [],
   "source": [
    "print(b < a and b < c)"
   ]
  },
  {
   "cell_type": "code",
   "execution_count": null,
   "id": "51c54ea3",
   "metadata": {},
   "outputs": [],
   "source": [
    "print(b < a or b < c)"
   ]
  },
  {
   "cell_type": "code",
   "execution_count": null,
   "id": "e03d92df",
   "metadata": {},
   "outputs": [],
   "source": [
    "print(not b < c)"
   ]
  },
  {
   "cell_type": "code",
   "execution_count": null,
   "id": "ecfa30af",
   "metadata": {},
   "outputs": [],
   "source": [
    "print(c == d)"
   ]
  },
  {
   "cell_type": "code",
   "execution_count": null,
   "id": "4689b340",
   "metadata": {},
   "outputs": [],
   "source": [
    "print(c != d)"
   ]
  },
  {
   "cell_type": "markdown",
   "id": "7288052a",
   "metadata": {},
   "source": [
    "# List"
   ]
  },
  {
   "cell_type": "code",
   "execution_count": null,
   "id": "7048c948",
   "metadata": {},
   "outputs": [],
   "source": [
    "a = [1, 2, 3]\n",
    "a.insert(0, 999)\n",
    "print(a)"
   ]
  },
  {
   "cell_type": "code",
   "execution_count": null,
   "id": "d7079728",
   "metadata": {},
   "outputs": [],
   "source": [
    "a.append(1)\n",
    "a.append(2)\n",
    "print(a)"
   ]
  },
  {
   "cell_type": "code",
   "execution_count": null,
   "id": "40fee2b1",
   "metadata": {},
   "outputs": [],
   "source": [
    "b = [3, 4, 5]\n",
    "print(b)"
   ]
  },
  {
   "cell_type": "code",
   "execution_count": null,
   "id": "8bfc1fe0",
   "metadata": {},
   "outputs": [],
   "source": [
    "c = a + b\n",
    "print(c)"
   ]
  },
  {
   "cell_type": "code",
   "execution_count": null,
   "id": "f5f7157f",
   "metadata": {},
   "outputs": [],
   "source": [
    "print('c[0] is %d, c[1] is %d, c[-1] is %d, summation of c is %d' % (c[0], c[1], c[-1], sum(c)))"
   ]
  },
  {
   "cell_type": "code",
   "execution_count": null,
   "id": "789e5997",
   "metadata": {},
   "outputs": [],
   "source": [
    "c.pop(3)\n",
    "print(c)"
   ]
  },
  {
   "cell_type": "code",
   "execution_count": null,
   "id": "1f1f163c",
   "metadata": {},
   "outputs": [],
   "source": [
    "c.pop(-1)\n",
    "print(c)"
   ]
  },
  {
   "cell_type": "code",
   "execution_count": null,
   "id": "1a6495a3",
   "metadata": {},
   "outputs": [],
   "source": [
    "print(len(c))"
   ]
  },
  {
   "cell_type": "markdown",
   "id": "25cb1bb2",
   "metadata": {},
   "source": [
    "# Dictionary"
   ]
  },
  {
   "cell_type": "code",
   "execution_count": null,
   "id": "e7f33469",
   "metadata": {},
   "outputs": [],
   "source": [
    "a = {}"
   ]
  },
  {
   "cell_type": "code",
   "execution_count": null,
   "id": "d12e1ce6",
   "metadata": {},
   "outputs": [],
   "source": [
    "a['x'] = 1\n",
    "print(a)"
   ]
  },
  {
   "cell_type": "code",
   "execution_count": null,
   "id": "46b89011",
   "metadata": {},
   "outputs": [],
   "source": [
    "a['y'] = 2\n",
    "print(a)"
   ]
  },
  {
   "cell_type": "code",
   "execution_count": null,
   "id": "0fe0ea32",
   "metadata": {},
   "outputs": [],
   "source": [
    "a['x'] = 999\n",
    "print(a)"
   ]
  },
  {
   "cell_type": "code",
   "execution_count": null,
   "id": "26eaf87b",
   "metadata": {},
   "outputs": [],
   "source": [
    "print('The value of x is %d' % a['x'])"
   ]
  },
  {
   "cell_type": "markdown",
   "id": "65e1f9c1",
   "metadata": {},
   "source": [
    "# if-else"
   ]
  },
  {
   "cell_type": "code",
   "execution_count": null,
   "id": "516dd1b0",
   "metadata": {},
   "outputs": [],
   "source": [
    "a = 1\n",
    "b = 2"
   ]
  },
  {
   "cell_type": "code",
   "execution_count": null,
   "id": "e58dcad5",
   "metadata": {},
   "outputs": [],
   "source": [
    "# if\n",
    "if a == 1:\n",
    "    print('Hey! a is 1')\n",
    "    \n",
    "if b == 1:\n",
    "    print('Hey! b is 1')"
   ]
  },
  {
   "cell_type": "code",
   "execution_count": null,
   "id": "4b1a6618",
   "metadata": {},
   "outputs": [],
   "source": [
    "# if-else\n",
    "if a % 2 == 0:\n",
    "    print('a is an even number')\n",
    "else:\n",
    "    print('a is an odd number')"
   ]
  },
  {
   "cell_type": "code",
   "execution_count": null,
   "id": "9ebb9a66",
   "metadata": {},
   "outputs": [],
   "source": [
    "# if-elif-else\n",
    "if a > b:\n",
    "    print('a > b')\n",
    "elif a < b:\n",
    "    print('a < b')\n",
    "else:\n",
    "    print('a == b')"
   ]
  },
  {
   "cell_type": "code",
   "execution_count": null,
   "id": "2649f77b",
   "metadata": {},
   "outputs": [],
   "source": [
    "# if-elif\n",
    "if a > b:\n",
    "    print('a > b')\n",
    "elif a < b:\n",
    "    print('a < b')"
   ]
  },
  {
   "cell_type": "code",
   "execution_count": null,
   "id": "3aa69e77",
   "metadata": {},
   "outputs": [],
   "source": [
    "# nested if-else\n",
    "if a != b:\n",
    "    if a < b:\n",
    "        print('a < b')\n",
    "    else:\n",
    "        print('a > b')\n",
    "else:\n",
    "    print('a == b')"
   ]
  },
  {
   "cell_type": "markdown",
   "id": "85643ba1",
   "metadata": {},
   "source": [
    "# for"
   ]
  },
  {
   "cell_type": "code",
   "execution_count": null,
   "id": "2d9f0964",
   "metadata": {},
   "outputs": [],
   "source": [
    "a = [100, 300, 500, 700, 900]\n",
    "for item in a:\n",
    "    print(item)"
   ]
  },
  {
   "cell_type": "code",
   "execution_count": null,
   "id": "091c45ff",
   "metadata": {},
   "outputs": [],
   "source": [
    "for i in range(5):\n",
    "    print(i)"
   ]
  },
  {
   "cell_type": "code",
   "execution_count": null,
   "id": "8906f4eb",
   "metadata": {},
   "outputs": [],
   "source": [
    "for i in range(1, 5):\n",
    "    print(i)"
   ]
  },
  {
   "cell_type": "code",
   "execution_count": null,
   "id": "6f0a0fbe",
   "metadata": {},
   "outputs": [],
   "source": [
    "for i in range(100, 1000, 200):\n",
    "    print(i)"
   ]
  },
  {
   "cell_type": "markdown",
   "id": "6fad5ef9",
   "metadata": {},
   "source": [
    "# while"
   ]
  },
  {
   "cell_type": "code",
   "execution_count": null,
   "id": "0d8de152",
   "metadata": {},
   "outputs": [],
   "source": [
    "i = 1\n",
    "ans = 0\n",
    "while i <= 100:\n",
    "    ans = ans + i\n",
    "    i = i + 1\n",
    "print(ans)"
   ]
  },
  {
   "cell_type": "markdown",
   "id": "47f9038e",
   "metadata": {},
   "source": [
    "# Function"
   ]
  },
  {
   "cell_type": "code",
   "execution_count": null,
   "id": "51964fb5",
   "metadata": {},
   "outputs": [],
   "source": [
    "def cumsum(n):\n",
    "    i = 0\n",
    "    ans = 0\n",
    "    while i <= n:\n",
    "        ans = ans + i\n",
    "        i = i + 1\n",
    "    return ans"
   ]
  },
  {
   "cell_type": "code",
   "execution_count": null,
   "id": "69ff32f6",
   "metadata": {},
   "outputs": [],
   "source": [
    "print(cumsum(100))\n",
    "a = 10\n",
    "print(cumsum(n=a))"
   ]
  },
  {
   "cell_type": "code",
   "execution_count": null,
   "id": "d7704af8",
   "metadata": {},
   "outputs": [],
   "source": [
    "def count(arr, tgt):\n",
    "    cnt = 0\n",
    "    for item in arr:\n",
    "        if item == tgt:\n",
    "            cnt = cnt + 1\n",
    "    return cnt"
   ]
  },
  {
   "cell_type": "code",
   "execution_count": null,
   "id": "84b829a7",
   "metadata": {},
   "outputs": [],
   "source": [
    "print(count([1, 2, 1, 3, 8], 1))"
   ]
  },
  {
   "cell_type": "code",
   "execution_count": null,
   "id": "788cda00",
   "metadata": {},
   "outputs": [],
   "source": [
    "my_tgt = 3\n",
    "my_arr = [3, 3, 3, 3, 3]\n",
    "print(count(tgt=my_tgt, arr=my_arr))"
   ]
  },
  {
   "cell_type": "markdown",
   "id": "45c84976",
   "metadata": {},
   "source": [
    "# Import"
   ]
  },
  {
   "cell_type": "code",
   "execution_count": null,
   "id": "d177704a",
   "metadata": {},
   "outputs": [],
   "source": [
    "from my_test import my_print\n",
    "my_print('I Love Python!')"
   ]
  },
  {
   "cell_type": "code",
   "execution_count": null,
   "id": "99647cf6",
   "metadata": {},
   "outputs": [],
   "source": [
    "from exp.exp import exp_print"
   ]
  },
  {
   "cell_type": "code",
   "execution_count": null,
   "id": "7b6c452a",
   "metadata": {},
   "outputs": [],
   "source": [
    "import my_test\n",
    "my_test.my_print('I Love Python!')"
   ]
  },
  {
   "cell_type": "code",
   "execution_count": null,
   "id": "bc0a78a8",
   "metadata": {},
   "outputs": [],
   "source": [
    "from my_test import my_print as mp\n",
    "mp('I Love Python!')"
   ]
  },
  {
   "cell_type": "code",
   "execution_count": null,
   "id": "07cbe4ab",
   "metadata": {},
   "outputs": [],
   "source": [
    "import my_test as mt\n",
    "mt.my_print('I Love Python!')"
   ]
  },
  {
   "cell_type": "code",
   "execution_count": null,
   "id": "12026399",
   "metadata": {},
   "outputs": [],
   "source": [
    "from A1234567X import A1_A1234567X as grading\n",
    "\n",
    "\n",
    "def reference(a, b):\n",
    "    c = a + b\n",
    "    return c\n",
    "\n",
    "\n",
    "x = 1.7\n",
    "y = 1.8\n",
    "ans_grading = grading(x, y)\n",
    "ans_reference = reference(x, y)\n",
    "if abs(ans_grading - ans_reference) < 0.0001:\n",
    "    print('Correct answer! You will get 5 marks')\n",
    "else:\n",
    "    print('Wrong answer! You will get 0 marks')"
   ]
  },
  {
   "cell_type": "markdown",
   "id": "27626aef",
   "metadata": {},
   "source": [
    "# Excercise\n",
    "1. Write a function to compute n! and print the answer of 11!\n",
    "2. Write a function to compute the n-th term of Fibonacci sequence and print the answer of the 20th term \n",
    "\n",
    "Try using both for and while"
   ]
  }
 ],
 "metadata": {
  "kernelspec": {
   "display_name": "Python 3 (ipykernel)",
   "language": "python",
   "name": "python3"
  },
  "language_info": {
   "codemirror_mode": {
    "name": "ipython",
    "version": 3
   },
   "file_extension": ".py",
   "mimetype": "text/x-python",
   "name": "python",
   "nbconvert_exporter": "python",
   "pygments_lexer": "ipython3",
   "version": "3.11.5"
  }
 },
 "nbformat": 4,
 "nbformat_minor": 5
}
