{
  "cells": [
    {
      "cell_type": "code",
      "execution_count": 102,
      "id": "initial_id",
      "metadata": {
        "ExecuteTime": {
          "end_time": "2024-03-04T12:33:57.060526800Z",
          "start_time": "2024-03-04T12:33:56.999011Z"
        },
        "collapsed": true,
        "id": "initial_id"
      },
      "outputs": [],
      "source": [
        "import numpy as np\n",
        "from sklearn.preprocessing import PolynomialFeatures\n",
        "from sklearn.metrics import mean_squared_error\n",
        "import matplotlib.pyplot as plt"
      ]
    },
    {
      "cell_type": "markdown",
      "id": "9235785245819d43",
      "metadata": {
        "collapsed": false,
        "id": "9235785245819d43"
      },
      "source": [
        "# Question 1\n",
        "\n",
        "This question explores the use of Pearson's correlation as a feature selection metric. We are given the following training dataset:"
      ]
    },
    {
      "cell_type": "code",
      "execution_count": 103,
      "id": "3bddf51787934c57",
      "metadata": {
        "ExecuteTime": {
          "end_time": "2024-03-04T12:33:57.085025900Z",
          "start_time": "2024-03-04T12:33:57.064028800Z"
        },
        "id": "3bddf51787934c57"
      },
      "outputs": [],
      "source": [
        "f1 = np.array([0.3510, 2.1812, 0.2415, -0.1096, 0.1544])\n",
        "f2 = np.array([1.1796, 2.1068, 1.7753, 1.2747, 2.0851])\n",
        "f3 = np.array([-0.9852, 1.3766, -1.3244, -0.6316, -0.8320])\n",
        "y = np.array([0.2758, 1.4392, -0.4611, 0.6154, 1.0006])"
      ]
    },
    {
      "cell_type": "markdown",
      "id": "2cc7628fd6d4f136",
      "metadata": {
        "collapsed": false,
        "id": "2cc7628fd6d4f136"
      },
      "source": [
        "What are the top two features we should select if we use Pearson's correlation as a feature selection metric?"
      ]
    },
    {
      "cell_type": "code",
      "execution_count": 104,
      "id": "b73b8c9fcf0dd541",
      "metadata": {
        "ExecuteTime": {
          "end_time": "2024-03-04T12:33:57.119266Z",
          "start_time": "2024-03-04T12:33:57.090248800Z"
        },
        "colab": {
          "base_uri": "https://localhost:8080/"
        },
        "id": "b73b8c9fcf0dd541",
        "outputId": "6a0e6e6d-30ee-4328-d839-4d9433a6bc16"
      },
      "outputs": [
        {
          "name": "stdout",
          "output_type": "stream",
          "text": [
            "[[0.6772 0.3188]\n",
            " [0.3188 0.4185]]\n",
            "0.5987722845227617\n",
            "0.45369218508997844\n",
            "0.8008916458435772\n"
          ]
        }
      ],
      "source": [
        "mu_1 = f1.mean()\n",
        "mu_2 = f2.mean()\n",
        "mu_3 = f3.mean()\n",
        "mu_y = y.mean()\n",
        "\n",
        "sd_1 = f1.std()\n",
        "sd_2 = f2.std()\n",
        "sd_3 = f3.std()\n",
        "sd_y = y.std()\n",
        "\n",
        "cov_1 = np.cov(f1, y, bias=True)[0, 1]\n",
        "cov_2 = np.cov(f2, y, bias=True)[0, 1]\n",
        "cov_3 = np.cov(f3, y, bias=True)[0, 1]\n",
        "print(np.cov(f1, y, bias=True))\n",
        "\n",
        "cor_1 = cov_1 / (sd_1 * sd_y)\n",
        "cor_2 = cov_2 / (sd_2 * sd_y)\n",
        "cor_3 = cov_3 / (sd_3 * sd_y)\n",
        "\n",
        "print(cor_1)\n",
        "print(cor_2)\n",
        "print(cor_3)"
      ]
    },
    {
      "cell_type": "code",
      "execution_count": 105,
      "id": "bf48ad9ee369bf24",
      "metadata": {
        "ExecuteTime": {
          "end_time": "2024-03-04T12:33:57.152929900Z",
          "start_time": "2024-03-04T12:33:57.122780500Z"
        },
        "colab": {
          "base_uri": "https://localhost:8080/"
        },
        "id": "bf48ad9ee369bf24",
        "outputId": "58cee1b2-9942-4269-99d6-4746b0c19832"
      },
      "outputs": [
        {
          "name": "stdout",
          "output_type": "stream",
          "text": [
            "0.5987722845227617\n",
            "0.4536921850899784\n",
            "0.8008916458435771\n",
            "[[1.     0.5988]\n",
            " [0.5988 1.    ]]\n"
          ]
        }
      ],
      "source": [
        "print(np.corrcoef(f1, y)[0, 1])\n",
        "print(np.corrcoef(f2, y)[0, 1])\n",
        "print(np.corrcoef(f3, y)[0, 1])\n",
        "print(np.corrcoef(f1, y))"
      ]
    },
    {
      "cell_type": "markdown",
      "id": "534c7d17fd5f6c9e",
      "metadata": {
        "collapsed": false,
        "id": "534c7d17fd5f6c9e"
      },
      "source": [
        "# Question 2\n",
        "\n",
        "This question further explores linear and ridge regression. The following data pairs are used for training:"
      ]
    },
    {
      "cell_type": "code",
      "execution_count": 106,
      "id": "75c3501c1c9e43e9",
      "metadata": {
        "ExecuteTime": {
          "end_time": "2024-03-04T12:33:57.186727200Z",
          "start_time": "2024-03-04T12:33:57.156337400Z"
        },
        "id": "75c3501c1c9e43e9"
      },
      "outputs": [],
      "source": [
        "# training data\n",
        "X_train = np.array([-10, -8, -3, -1, 2, 7]).reshape((-1, 1))\n",
        "Y_train = np.array([4.18, 2.42, 0.22, 0.12, 0.25, 3.09]).reshape((-1, 1))"
      ]
    },
    {
      "cell_type": "markdown",
      "id": "6dde2a7c54aff1bb",
      "metadata": {
        "collapsed": false,
        "id": "6dde2a7c54aff1bb"
      },
      "source": [
        "The data for testing are as follows:"
      ]
    },
    {
      "cell_type": "code",
      "execution_count": 107,
      "id": "410713d246405168",
      "metadata": {
        "ExecuteTime": {
          "end_time": "2024-03-04T12:33:57.213355400Z",
          "start_time": "2024-03-04T12:33:57.161372100Z"
        },
        "id": "410713d246405168"
      },
      "outputs": [],
      "source": [
        "# test data\n",
        "X_test = np.array([-9, -7, -5, -4, -2, 1, 4, 5, 6, 9]).reshape((-1, 1))\n",
        "Y_test = np.array([3, 1.81, 0.80, 0.25, -0.19, 0.4, 1.24, 1.68, 2.32, 5.05]).reshape((-1, 1))"
      ]
    },
    {
      "cell_type": "markdown",
      "id": "6142ea39c0b53baf",
      "metadata": {
        "collapsed": false,
        "id": "6142ea39c0b53baf"
      },
      "source": [
        "## Part a\n",
        "\n",
        "Use the polynomial model from orders 1 to 6 to train and test the data without regularization. Plot the MSE over orders from 1 to 6 for both the training and the test sets. Which model order provides the best MSE in the training and test sets? Why?"
      ]
    },
    {
      "cell_type": "code",
      "execution_count": 108,
      "id": "9b3e1ed7902199a1",
      "metadata": {
        "ExecuteTime": {
          "end_time": "2024-03-04T12:33:57.213854300Z",
          "start_time": "2024-03-04T12:33:57.192768100Z"
        },
        "id": "9b3e1ed7902199a1"
      },
      "outputs": [],
      "source": [
        "MAX_ORDER = 200\n",
        "np.set_printoptions(precision=4)\n",
        "\n",
        "# data for plotting curves\n",
        "x_plot = np.linspace(-10, 10, 100)"
      ]
    },
    {
      "cell_type": "code",
      "execution_count": 109,
      "id": "184bb874052592fb",
      "metadata": {
        "ExecuteTime": {
          "end_time": "2024-03-04T12:33:57.238766600Z",
          "start_time": "2024-03-04T12:33:57.224607900Z"
        },
        "colab": {
          "base_uri": "https://localhost:8080/"
        },
        "id": "184bb874052592fb",
        "outputId": "8f175d2c-f0d4-49ca-e8f4-bbaec822cedc"
      },
      "outputs": [
        {
          "name": "stderr",
          "output_type": "stream",
          "text": [
            "C:\\Users\\YTTRIUM\\AppData\\Local\\Temp\\ipykernel_1600\\447467291.py:13: RuntimeWarning: overflow encountered in matmul\n",
            "  W = P_train.T @ np.linalg.inv(P_train @ P_train.T) @ Y_train\n",
            "C:\\Users\\YTTRIUM\\AppData\\Local\\Temp\\ipykernel_1600\\447467291.py:13: RuntimeWarning: overflow encountered in matmul\n",
            "  W = P_train.T @ np.linalg.inv(P_train @ P_train.T) @ Y_train\n",
            "C:\\Users\\YTTRIUM\\AppData\\Local\\Temp\\ipykernel_1600\\447467291.py:13: RuntimeWarning: overflow encountered in matmul\n",
            "  W = P_train.T @ np.linalg.inv(P_train @ P_train.T) @ Y_train\n",
            "C:\\Users\\YTTRIUM\\AppData\\Local\\Temp\\ipykernel_1600\\447467291.py:13: RuntimeWarning: overflow encountered in matmul\n",
            "  W = P_train.T @ np.linalg.inv(P_train @ P_train.T) @ Y_train\n",
            "C:\\Users\\YTTRIUM\\AppData\\Local\\Temp\\ipykernel_1600\\447467291.py:13: RuntimeWarning: overflow encountered in matmul\n",
            "  W = P_train.T @ np.linalg.inv(P_train @ P_train.T) @ Y_train\n",
            "C:\\Users\\YTTRIUM\\AppData\\Local\\Temp\\ipykernel_1600\\447467291.py:13: RuntimeWarning: overflow encountered in matmul\n",
            "  W = P_train.T @ np.linalg.inv(P_train @ P_train.T) @ Y_train\n",
            "C:\\Users\\YTTRIUM\\AppData\\Local\\Temp\\ipykernel_1600\\447467291.py:13: RuntimeWarning: overflow encountered in matmul\n",
            "  W = P_train.T @ np.linalg.inv(P_train @ P_train.T) @ Y_train\n",
            "c:\\Users\\YTTRIUM\\anaconda3\\envs\\ee2211\\lib\\site-packages\\sklearn\\metrics\\_regression.py:478: RuntimeWarning: overflow encountered in square\n",
            "  output_errors = np.average((y_true - y_pred) ** 2, axis=0, weights=sample_weight)\n",
            "C:\\Users\\YTTRIUM\\AppData\\Local\\Temp\\ipykernel_1600\\447467291.py:13: RuntimeWarning: overflow encountered in matmul\n",
            "  W = P_train.T @ np.linalg.inv(P_train @ P_train.T) @ Y_train\n"
          ]
        },
        {
          "ename": "ValueError",
          "evalue": "Input contains NaN.",
          "output_type": "error",
          "traceback": [
            "\u001b[1;31m---------------------------------------------------------------------------\u001b[0m",
            "\u001b[1;31mValueError\u001b[0m                                Traceback (most recent call last)",
            "Cell \u001b[1;32mIn[109], line 18\u001b[0m\n\u001b[0;32m     15\u001b[0m P_train_pred \u001b[38;5;241m=\u001b[39m P_train \u001b[38;5;241m@\u001b[39m W\n\u001b[0;32m     16\u001b[0m P_test_pred \u001b[38;5;241m=\u001b[39m P_test \u001b[38;5;241m@\u001b[39m W\n\u001b[1;32m---> 18\u001b[0m train_MSEs\u001b[38;5;241m.\u001b[39mappend(\u001b[43mmean_squared_error\u001b[49m\u001b[43m(\u001b[49m\u001b[43mY_train\u001b[49m\u001b[43m,\u001b[49m\u001b[43m \u001b[49m\u001b[43mP_train_pred\u001b[49m\u001b[43m)\u001b[49m)\n\u001b[0;32m     19\u001b[0m test_MSEs\u001b[38;5;241m.\u001b[39mappend(mean_squared_error(Y_test, P_test_pred))\n\u001b[0;32m     20\u001b[0m \u001b[38;5;66;03m#test_MSEs[order - 1] = mean_squared_error(Y_test, P_test_pred)\u001b[39;00m\n",
            "File \u001b[1;32mc:\\Users\\YTTRIUM\\anaconda3\\envs\\ee2211\\lib\\site-packages\\sklearn\\utils\\_param_validation.py:211\u001b[0m, in \u001b[0;36mvalidate_params.<locals>.decorator.<locals>.wrapper\u001b[1;34m(*args, **kwargs)\u001b[0m\n\u001b[0;32m    205\u001b[0m \u001b[38;5;28;01mtry\u001b[39;00m:\n\u001b[0;32m    206\u001b[0m     \u001b[38;5;28;01mwith\u001b[39;00m config_context(\n\u001b[0;32m    207\u001b[0m         skip_parameter_validation\u001b[38;5;241m=\u001b[39m(\n\u001b[0;32m    208\u001b[0m             prefer_skip_nested_validation \u001b[38;5;129;01mor\u001b[39;00m global_skip_validation\n\u001b[0;32m    209\u001b[0m         )\n\u001b[0;32m    210\u001b[0m     ):\n\u001b[1;32m--> 211\u001b[0m         \u001b[38;5;28;01mreturn\u001b[39;00m \u001b[43mfunc\u001b[49m\u001b[43m(\u001b[49m\u001b[38;5;241;43m*\u001b[39;49m\u001b[43margs\u001b[49m\u001b[43m,\u001b[49m\u001b[43m \u001b[49m\u001b[38;5;241;43m*\u001b[39;49m\u001b[38;5;241;43m*\u001b[39;49m\u001b[43mkwargs\u001b[49m\u001b[43m)\u001b[49m\n\u001b[0;32m    212\u001b[0m \u001b[38;5;28;01mexcept\u001b[39;00m InvalidParameterError \u001b[38;5;28;01mas\u001b[39;00m e:\n\u001b[0;32m    213\u001b[0m     \u001b[38;5;66;03m# When the function is just a wrapper around an estimator, we allow\u001b[39;00m\n\u001b[0;32m    214\u001b[0m     \u001b[38;5;66;03m# the function to delegate validation to the estimator, but we replace\u001b[39;00m\n\u001b[0;32m    215\u001b[0m     \u001b[38;5;66;03m# the name of the estimator by the name of the function in the error\u001b[39;00m\n\u001b[0;32m    216\u001b[0m     \u001b[38;5;66;03m# message to avoid confusion.\u001b[39;00m\n\u001b[0;32m    217\u001b[0m     msg \u001b[38;5;241m=\u001b[39m re\u001b[38;5;241m.\u001b[39msub(\n\u001b[0;32m    218\u001b[0m         \u001b[38;5;124mr\u001b[39m\u001b[38;5;124m\"\u001b[39m\u001b[38;5;124mparameter of \u001b[39m\u001b[38;5;124m\\\u001b[39m\u001b[38;5;124mw+ must be\u001b[39m\u001b[38;5;124m\"\u001b[39m,\n\u001b[0;32m    219\u001b[0m         \u001b[38;5;124mf\u001b[39m\u001b[38;5;124m\"\u001b[39m\u001b[38;5;124mparameter of \u001b[39m\u001b[38;5;132;01m{\u001b[39;00mfunc\u001b[38;5;241m.\u001b[39m\u001b[38;5;18m__qualname__\u001b[39m\u001b[38;5;132;01m}\u001b[39;00m\u001b[38;5;124m must be\u001b[39m\u001b[38;5;124m\"\u001b[39m,\n\u001b[0;32m    220\u001b[0m         \u001b[38;5;28mstr\u001b[39m(e),\n\u001b[0;32m    221\u001b[0m     )\n",
            "File \u001b[1;32mc:\\Users\\YTTRIUM\\anaconda3\\envs\\ee2211\\lib\\site-packages\\sklearn\\metrics\\_regression.py:474\u001b[0m, in \u001b[0;36mmean_squared_error\u001b[1;34m(y_true, y_pred, sample_weight, multioutput, squared)\u001b[0m\n\u001b[0;32m    404\u001b[0m \u001b[38;5;129m@validate_params\u001b[39m(\n\u001b[0;32m    405\u001b[0m     {\n\u001b[0;32m    406\u001b[0m         \u001b[38;5;124m\"\u001b[39m\u001b[38;5;124my_true\u001b[39m\u001b[38;5;124m\"\u001b[39m: [\u001b[38;5;124m\"\u001b[39m\u001b[38;5;124marray-like\u001b[39m\u001b[38;5;124m\"\u001b[39m],\n\u001b[1;32m   (...)\u001b[0m\n\u001b[0;32m    415\u001b[0m     y_true, y_pred, \u001b[38;5;241m*\u001b[39m, sample_weight\u001b[38;5;241m=\u001b[39m\u001b[38;5;28;01mNone\u001b[39;00m, multioutput\u001b[38;5;241m=\u001b[39m\u001b[38;5;124m\"\u001b[39m\u001b[38;5;124muniform_average\u001b[39m\u001b[38;5;124m\"\u001b[39m, squared\u001b[38;5;241m=\u001b[39m\u001b[38;5;28;01mTrue\u001b[39;00m\n\u001b[0;32m    416\u001b[0m ):\n\u001b[0;32m    417\u001b[0m \u001b[38;5;250m    \u001b[39m\u001b[38;5;124;03m\"\"\"Mean squared error regression loss.\u001b[39;00m\n\u001b[0;32m    418\u001b[0m \n\u001b[0;32m    419\u001b[0m \u001b[38;5;124;03m    Read more in the :ref:`User Guide <mean_squared_error>`.\u001b[39;00m\n\u001b[1;32m   (...)\u001b[0m\n\u001b[0;32m    472\u001b[0m \u001b[38;5;124;03m    0.825...\u001b[39;00m\n\u001b[0;32m    473\u001b[0m \u001b[38;5;124;03m    \"\"\"\u001b[39;00m\n\u001b[1;32m--> 474\u001b[0m     y_type, y_true, y_pred, multioutput \u001b[38;5;241m=\u001b[39m \u001b[43m_check_reg_targets\u001b[49m\u001b[43m(\u001b[49m\n\u001b[0;32m    475\u001b[0m \u001b[43m        \u001b[49m\u001b[43my_true\u001b[49m\u001b[43m,\u001b[49m\u001b[43m \u001b[49m\u001b[43my_pred\u001b[49m\u001b[43m,\u001b[49m\u001b[43m \u001b[49m\u001b[43mmultioutput\u001b[49m\n\u001b[0;32m    476\u001b[0m \u001b[43m    \u001b[49m\u001b[43m)\u001b[49m\n\u001b[0;32m    477\u001b[0m     check_consistent_length(y_true, y_pred, sample_weight)\n\u001b[0;32m    478\u001b[0m     output_errors \u001b[38;5;241m=\u001b[39m np\u001b[38;5;241m.\u001b[39maverage((y_true \u001b[38;5;241m-\u001b[39m y_pred) \u001b[38;5;241m*\u001b[39m\u001b[38;5;241m*\u001b[39m \u001b[38;5;241m2\u001b[39m, axis\u001b[38;5;241m=\u001b[39m\u001b[38;5;241m0\u001b[39m, weights\u001b[38;5;241m=\u001b[39msample_weight)\n",
            "File \u001b[1;32mc:\\Users\\YTTRIUM\\anaconda3\\envs\\ee2211\\lib\\site-packages\\sklearn\\metrics\\_regression.py:101\u001b[0m, in \u001b[0;36m_check_reg_targets\u001b[1;34m(y_true, y_pred, multioutput, dtype)\u001b[0m\n\u001b[0;32m     99\u001b[0m check_consistent_length(y_true, y_pred)\n\u001b[0;32m    100\u001b[0m y_true \u001b[38;5;241m=\u001b[39m check_array(y_true, ensure_2d\u001b[38;5;241m=\u001b[39m\u001b[38;5;28;01mFalse\u001b[39;00m, dtype\u001b[38;5;241m=\u001b[39mdtype)\n\u001b[1;32m--> 101\u001b[0m y_pred \u001b[38;5;241m=\u001b[39m \u001b[43mcheck_array\u001b[49m\u001b[43m(\u001b[49m\u001b[43my_pred\u001b[49m\u001b[43m,\u001b[49m\u001b[43m \u001b[49m\u001b[43mensure_2d\u001b[49m\u001b[38;5;241;43m=\u001b[39;49m\u001b[38;5;28;43;01mFalse\u001b[39;49;00m\u001b[43m,\u001b[49m\u001b[43m \u001b[49m\u001b[43mdtype\u001b[49m\u001b[38;5;241;43m=\u001b[39;49m\u001b[43mdtype\u001b[49m\u001b[43m)\u001b[49m\n\u001b[0;32m    103\u001b[0m \u001b[38;5;28;01mif\u001b[39;00m y_true\u001b[38;5;241m.\u001b[39mndim \u001b[38;5;241m==\u001b[39m \u001b[38;5;241m1\u001b[39m:\n\u001b[0;32m    104\u001b[0m     y_true \u001b[38;5;241m=\u001b[39m y_true\u001b[38;5;241m.\u001b[39mreshape((\u001b[38;5;241m-\u001b[39m\u001b[38;5;241m1\u001b[39m, \u001b[38;5;241m1\u001b[39m))\n",
            "File \u001b[1;32mc:\\Users\\YTTRIUM\\anaconda3\\envs\\ee2211\\lib\\site-packages\\sklearn\\utils\\validation.py:959\u001b[0m, in \u001b[0;36mcheck_array\u001b[1;34m(array, accept_sparse, accept_large_sparse, dtype, order, copy, force_all_finite, ensure_2d, allow_nd, ensure_min_samples, ensure_min_features, estimator, input_name)\u001b[0m\n\u001b[0;32m    953\u001b[0m         \u001b[38;5;28;01mraise\u001b[39;00m \u001b[38;5;167;01mValueError\u001b[39;00m(\n\u001b[0;32m    954\u001b[0m             \u001b[38;5;124m\"\u001b[39m\u001b[38;5;124mFound array with dim \u001b[39m\u001b[38;5;132;01m%d\u001b[39;00m\u001b[38;5;124m. \u001b[39m\u001b[38;5;132;01m%s\u001b[39;00m\u001b[38;5;124m expected <= 2.\u001b[39m\u001b[38;5;124m\"\u001b[39m\n\u001b[0;32m    955\u001b[0m             \u001b[38;5;241m%\u001b[39m (array\u001b[38;5;241m.\u001b[39mndim, estimator_name)\n\u001b[0;32m    956\u001b[0m         )\n\u001b[0;32m    958\u001b[0m     \u001b[38;5;28;01mif\u001b[39;00m force_all_finite:\n\u001b[1;32m--> 959\u001b[0m         \u001b[43m_assert_all_finite\u001b[49m\u001b[43m(\u001b[49m\n\u001b[0;32m    960\u001b[0m \u001b[43m            \u001b[49m\u001b[43marray\u001b[49m\u001b[43m,\u001b[49m\n\u001b[0;32m    961\u001b[0m \u001b[43m            \u001b[49m\u001b[43minput_name\u001b[49m\u001b[38;5;241;43m=\u001b[39;49m\u001b[43minput_name\u001b[49m\u001b[43m,\u001b[49m\n\u001b[0;32m    962\u001b[0m \u001b[43m            \u001b[49m\u001b[43mestimator_name\u001b[49m\u001b[38;5;241;43m=\u001b[39;49m\u001b[43mestimator_name\u001b[49m\u001b[43m,\u001b[49m\n\u001b[0;32m    963\u001b[0m \u001b[43m            \u001b[49m\u001b[43mallow_nan\u001b[49m\u001b[38;5;241;43m=\u001b[39;49m\u001b[43mforce_all_finite\u001b[49m\u001b[43m \u001b[49m\u001b[38;5;241;43m==\u001b[39;49m\u001b[43m \u001b[49m\u001b[38;5;124;43m\"\u001b[39;49m\u001b[38;5;124;43mallow-nan\u001b[39;49m\u001b[38;5;124;43m\"\u001b[39;49m\u001b[43m,\u001b[49m\n\u001b[0;32m    964\u001b[0m \u001b[43m        \u001b[49m\u001b[43m)\u001b[49m\n\u001b[0;32m    966\u001b[0m \u001b[38;5;28;01mif\u001b[39;00m ensure_min_samples \u001b[38;5;241m>\u001b[39m \u001b[38;5;241m0\u001b[39m:\n\u001b[0;32m    967\u001b[0m     n_samples \u001b[38;5;241m=\u001b[39m _num_samples(array)\n",
            "File \u001b[1;32mc:\\Users\\YTTRIUM\\anaconda3\\envs\\ee2211\\lib\\site-packages\\sklearn\\utils\\validation.py:124\u001b[0m, in \u001b[0;36m_assert_all_finite\u001b[1;34m(X, allow_nan, msg_dtype, estimator_name, input_name)\u001b[0m\n\u001b[0;32m    121\u001b[0m \u001b[38;5;28;01mif\u001b[39;00m first_pass_isfinite:\n\u001b[0;32m    122\u001b[0m     \u001b[38;5;28;01mreturn\u001b[39;00m\n\u001b[1;32m--> 124\u001b[0m \u001b[43m_assert_all_finite_element_wise\u001b[49m\u001b[43m(\u001b[49m\n\u001b[0;32m    125\u001b[0m \u001b[43m    \u001b[49m\u001b[43mX\u001b[49m\u001b[43m,\u001b[49m\n\u001b[0;32m    126\u001b[0m \u001b[43m    \u001b[49m\u001b[43mxp\u001b[49m\u001b[38;5;241;43m=\u001b[39;49m\u001b[43mxp\u001b[49m\u001b[43m,\u001b[49m\n\u001b[0;32m    127\u001b[0m \u001b[43m    \u001b[49m\u001b[43mallow_nan\u001b[49m\u001b[38;5;241;43m=\u001b[39;49m\u001b[43mallow_nan\u001b[49m\u001b[43m,\u001b[49m\n\u001b[0;32m    128\u001b[0m \u001b[43m    \u001b[49m\u001b[43mmsg_dtype\u001b[49m\u001b[38;5;241;43m=\u001b[39;49m\u001b[43mmsg_dtype\u001b[49m\u001b[43m,\u001b[49m\n\u001b[0;32m    129\u001b[0m \u001b[43m    \u001b[49m\u001b[43mestimator_name\u001b[49m\u001b[38;5;241;43m=\u001b[39;49m\u001b[43mestimator_name\u001b[49m\u001b[43m,\u001b[49m\n\u001b[0;32m    130\u001b[0m \u001b[43m    \u001b[49m\u001b[43minput_name\u001b[49m\u001b[38;5;241;43m=\u001b[39;49m\u001b[43minput_name\u001b[49m\u001b[43m,\u001b[49m\n\u001b[0;32m    131\u001b[0m \u001b[43m\u001b[49m\u001b[43m)\u001b[49m\n",
            "File \u001b[1;32mc:\\Users\\YTTRIUM\\anaconda3\\envs\\ee2211\\lib\\site-packages\\sklearn\\utils\\validation.py:173\u001b[0m, in \u001b[0;36m_assert_all_finite_element_wise\u001b[1;34m(X, xp, allow_nan, msg_dtype, estimator_name, input_name)\u001b[0m\n\u001b[0;32m    156\u001b[0m \u001b[38;5;28;01mif\u001b[39;00m estimator_name \u001b[38;5;129;01mand\u001b[39;00m input_name \u001b[38;5;241m==\u001b[39m \u001b[38;5;124m\"\u001b[39m\u001b[38;5;124mX\u001b[39m\u001b[38;5;124m\"\u001b[39m \u001b[38;5;129;01mand\u001b[39;00m has_nan_error:\n\u001b[0;32m    157\u001b[0m     \u001b[38;5;66;03m# Improve the error message on how to handle missing values in\u001b[39;00m\n\u001b[0;32m    158\u001b[0m     \u001b[38;5;66;03m# scikit-learn.\u001b[39;00m\n\u001b[0;32m    159\u001b[0m     msg_err \u001b[38;5;241m+\u001b[39m\u001b[38;5;241m=\u001b[39m (\n\u001b[0;32m    160\u001b[0m         \u001b[38;5;124mf\u001b[39m\u001b[38;5;124m\"\u001b[39m\u001b[38;5;130;01m\\n\u001b[39;00m\u001b[38;5;132;01m{\u001b[39;00mestimator_name\u001b[38;5;132;01m}\u001b[39;00m\u001b[38;5;124m does not accept missing values\u001b[39m\u001b[38;5;124m\"\u001b[39m\n\u001b[0;32m    161\u001b[0m         \u001b[38;5;124m\"\u001b[39m\u001b[38;5;124m encoded as NaN natively. For supervised learning, you might want\u001b[39m\u001b[38;5;124m\"\u001b[39m\n\u001b[1;32m   (...)\u001b[0m\n\u001b[0;32m    171\u001b[0m         \u001b[38;5;124m\"\u001b[39m\u001b[38;5;124m#estimators-that-handle-nan-values\u001b[39m\u001b[38;5;124m\"\u001b[39m\n\u001b[0;32m    172\u001b[0m     )\n\u001b[1;32m--> 173\u001b[0m \u001b[38;5;28;01mraise\u001b[39;00m \u001b[38;5;167;01mValueError\u001b[39;00m(msg_err)\n",
            "\u001b[1;31mValueError\u001b[0m: Input contains NaN."
          ]
        }
      ],
      "source": [
        "train_MSEs = []  # np.zeros(MAX_ORDER)\n",
        "test_MSEs = []   # np.zeros(MAX_ORDER)\n",
        "\n",
        "for order in range(1, MAX_ORDER+1):\n",
        "    poly = PolynomialFeatures(order)\n",
        "    P_train = poly.fit_transform(X_train)\n",
        "    P_test = poly.fit_transform(X_test)\n",
        "    # print(P_train)\n",
        "\n",
        "    if P_train.shape[0] >= P_train.shape[1]: # 1-5 primal\n",
        "        W = np.linalg.inv(P_train.T @ P_train) @ P_train.T @ Y_train\n",
        "    else: # 6 dual\n",
        "        W = P_train.T @ np.linalg.inv(P_train @ P_train.T) @ Y_train\n",
        "\n",
        "    P_train_pred = P_train @ W\n",
        "    P_test_pred = P_test @ W\n",
        "\n",
        "    train_MSEs.append(mean_squared_error(Y_train, P_train_pred))\n",
        "    test_MSEs.append(mean_squared_error(Y_test, P_test_pred))\n",
        "    #test_MSEs[order - 1] = mean_squared_error(Y_test, P_test_pred)\n",
        "\n",
        "print(train_MSEs)\n",
        "print(test_MSEs)"
      ]
    },
    {
      "cell_type": "code",
      "execution_count": null,
      "id": "a4c6b3d565d0366a",
      "metadata": {
        "ExecuteTime": {
          "end_time": "2024-03-04T12:33:57.361912800Z",
          "start_time": "2024-03-04T12:33:57.238766600Z"
        },
        "colab": {
          "base_uri": "https://localhost:8080/",
          "height": 449
        },
        "id": "a4c6b3d565d0366a",
        "outputId": "ce49e7c3-5b82-4a5d-96c1-a2638b96d84b"
      },
      "outputs": [
        {
          "data": {
            "image/png": "[encoded data removed]",
            "text/plain": [
              "<Figure size 640x480 with 1 Axes>"
            ]
          },
          "metadata": {},
          "output_type": "display_data"
        }
      ],
      "source": [
        "plot_x = np.array(range(1, MAX_ORDER+1))\n",
        "plt.plot(plot_x, train_MSEs, label=\"train\")\n",
        "plt.plot(plot_x, test_MSEs, label=\"test\")\n",
        "plt.xlabel(\"Polynomial Order\")\n",
        "plt.ylabel(\"MSE\")\n",
        "plt.legend()\n",
        "plt.show()"
      ]
    },
    {
      "cell_type": "markdown",
      "id": "620080d3fd7441c8",
      "metadata": {
        "collapsed": false,
        "id": "620080d3fd7441c8"
      },
      "source": [
        "## Part b\n",
        "\n",
        "Use regularization (ridge regression) `lambda=1` for all orders and repeat the same analyses. Compare the plots of (a) and (b). What do you see?"
      ]
    },
    {
      "cell_type": "code",
      "execution_count": null,
      "id": "2e00ac2eff8dd15f",
      "metadata": {
        "ExecuteTime": {
          "end_time": "2024-03-04T12:33:57.385130200Z",
          "start_time": "2024-03-04T12:33:57.355380800Z"
        },
        "colab": {
          "base_uri": "https://localhost:8080/"
        },
        "id": "2e00ac2eff8dd15f",
        "outputId": "3e4dbd3c-985c-44cf-abbe-5359c7f93af2"
      },
      "outputs": [
        {
          "name": "stdout",
          "output_type": "stream",
          "text": [
            "[2.3585531011197105, 0.008456477077018444, 0.008356013483798833, 0.001807976222390347, 0.0007264963730617796, 0.00019347846088121716, 0.00021006219280030516, 0.00010800976550158301, 8.41256691087616e-05, 5.6910199103238124e-05, 4.4119837134425876e-05, 3.3773647129502766e-05, 5.7422315456067714e-05, 0.00014439714233174114, 0.43446959729681445, 24.29692452140203, 5.3656611862921855, 247593.18732521168, 863665.4299649261, 1437590165.4157057, 93451945.5148596, 8376469656186.126, 2673922426524157.0, 122489315722576.45, 5.388930576659721e+19, 1.92136663956865e+20, 9.304635630396475e+22, 6.066402635734564e+24, 1.1736285997980705e+27, 3.4641203221855225e+26, 6.316020674237534e+30, 7.899098664820744e+32, 4.765032577102211e+34, 1.0244172923613275e+34, 6.948073079108287e+37, 1.8225812389268424e+41, 5.04760062457525e+42, 6.210938467579497e+44, 1.0880349996082663e+47, 7.068748424987859e+48, 6.458815603697613e+50, 8.140957898256383e+52, 1.3419115767861973e+53, 1.1273662556347215e+55, 4.407767243402744e+58, 2.8931493367329472e+60, 1.0662297560944677e+62, 1.5195117659435776e+64, 9.841526482572432e+66, 7.552530940323475e+68, 7.39122321421693e+70, 3.034422889518493e+72, 3.3397030088617346e+73, 3.605789321805827e+76, 1.6856464143443806e+77, 2.050433763592169e+80, 5.951047935220646e+80, 3.5840261898759916e+83, 3.7204708305327498e+84, 6.382503004333956e+88, 6.830989433060633e+89, 4.702543727562268e+91, 2.662483076966799e+94, 3.066410656958188e+95, 1.64686392333492e+96, 9.364020271519188e+99, 1.92832498699701e+101, 2.3775249175659113e+104, 6.797932195550404e+105, 1.0943565380960307e+108, 1.53377966184117e+110, 6.191123413934988e+110, 4.5560065256036304e+113, 8.331974863799533e+114, 1.0063551219445598e+114, 5.749434277415668e+118, 1.1822704817440866e+122, 2.2985775828839455e+123, 1.1844954480684103e+126, 8.029983132519417e+127, 5.009966589157369e+128, 1.1307188620480758e+132, 3.1961795535882773e+133, 1.2826760623151137e+134, 1.2908108696141228e+137, 1.2327324772789827e+137, 1.6246570715652416e+141, 3.95807112255609e+143, 3.4369298642687284e+145, 2.8763699065898913e+146, 3.141742432630777e+149, 1.509590793719778e+148, 3.752068012833089e+152, 8.624907928336888e+155, 3.626564511802338e+157, 7.58074868051819e+159, 1.217056955265488e+162, 1.5719635438053502e+161, 2.5796072093733114e+164, 2.5529921491682617e+167, 2.172625557290251e+169, 8.79152750232438e+171, 6.379806326915587e+173, 2.172483807940018e+175, 3.02762614859256e+176, 7.019815812458563e+179, 2.223247908608762e+180, 1.6659976982330511e+184, 1.8306995850205897e+184, 1.3372516573653719e+188, 5.501998785134829e+188, 4.999883861139199e+190, 1.1328612645730496e+193, 6.079881713963707e+195, 1.8251106087995203e+198, 9.289949963735115e+199, 2.1796760670227895e+200, 3.2250165251989994e+203, 1.135420192053974e+206, 4.295731211302495e+206, 1.0104441994108932e+209, 7.26312155654131e+211, 1.3313182815681827e+213, 1.7025673129481782e+213, 2.5806905510261794e+216, 3.4997581830664314e+219, 3.7713439805523245e+219, 4.975677375108286e+223, 2.074132724149595e+224, 5.576980639650299e+226, 5.757851215838432e+228, 6.282158574154153e+230, 1.9633179746134602e+233, 6.307744333693464e+235, 1.9789513395721588e+236, 3.558536078262556e+239, 4.5898429759384555e+241, 5.859967680713103e+242, 1.6866260408849634e+246, 6.105207406621596e+246, 1.8963371373092835e+248, 3.274032039570396e+250, 5.394083961725997e+253, 4.203983883586107e+255, 1.2340175344673138e+257, 1.491112851512063e+259, 5.34059172100084e+261, 3.855918008206059e+263, 1.6004113910375814e+265, 4.775239713402532e+266]\n",
            "[3.2755677280832316, 0.030169873887064692, 0.031417148304253864, 0.09393142698402805, 0.4368968008239905, 6.02023594611855, 16.33645034466042, 20417.500086622582, 97265.57730060458, 41637067.03682511, 1087658517.1758678, 119956137029.13225, 5830875412081.731, 457329457536198.3, 2.8169729344701828e+16, 2.0291043877662339e+18, 1.3698126252774977e+20, 9.752294534310506e+21, 6.852808165237522e+23, 4.915679704880598e+25, 3.529417380588829e+27, 2.559739677501799e+29, 1.8640551589162345e+31, 1.366001984660548e+33, 1.0053333890918944e+35, 7.433314585780862e+36, 5.517283981243925e+38, 4.1104242367166677e+40, 3.072489457251329e+42, 2.303823889866978e+44, 1.7324071132064505e+46, 1.3062008631266126e+48, 9.872921123889987e+49, 7.47974643191949e+51, 5.678944144832891e+53, 4.3204541247631827e+55, 3.293202850868974e+57, 2.5146998765175875e+59, 1.9234803719882439e+61, 1.4736095324504405e+63, 1.130661412494504e+65, 8.687676159921386e+66, 6.684418918183409e+68, 5.149714539018572e+70, 3.97223335297793e+72, 3.0675599778156405e+74, 2.3715618516822242e+76, 1.835426199748283e+78, 1.421935648916739e+80, 1.1026668155335142e+82, 8.558783669595722e+83, 6.649153083563695e+85, 5.170009571774877e+87, 4.023205671188571e+89, 3.133249762095384e+91, 2.4420048029429974e+93, 1.9046461441692555e+95, 1.4865743845337208e+97, 1.1610540798995694e+99, 9.074051040334653e+100, 7.096153495458361e+102, 5.552753219838407e+104, 4.3475880064081264e+106, 3.405920657862512e+108, 2.669677017609855e+110, 2.0936943683209602e+112, 1.6428234098842518e+114, 1.2896876448491242e+116, 1.012949039859253e+118, 7.959645042617359e+119, 6.257441228936607e+121, 4.921426812676076e+123, 3.872317072942037e+125, 3.048113284944585e+127, 2.4003055295437214e+129, 1.890916288341939e+131, 1.4901972601531536e+133, 1.1748337568239926e+135, 9.265438292112704e+136, 7.309846820447789e+138, 5.7689845026709515e+140, 4.55444473496729e+142, 3.596771050528881e+144, 2.841370771347287e+146, 2.245315497553246e+148, 1.774834695185534e+150, 1.4033511447569089e+152, 1.1099403963170998e+154, 8.781220458920438e+155, 6.949109956507378e+157, 5.500723657722377e+159, 4.355361032823235e+161, 3.449368819283559e+163, 2.7325226297279577e+165, 2.165180827552829e+167, 1.7160444700156065e+169, 1.3603937376437408e+171, 1.0786989810164863e+173, 8.555263076252737e+174, 6.786750638049224e+176, 5.384977271767563e+178, 4.273634718667804e+180, 3.3923497436320766e+182, 2.6933434941300175e+184, 2.1387943269261944e+186, 1.6987550884451553e+188, 1.3495076182045956e+190, 1.072262562143629e+192, 8.521315090863447e+193, 6.773143618146032e+195, 5.38456546597742e+197, 4.281405181564099e+199, 3.4048337365236086e+201, 2.708183289401565e+203, 2.1544253681667427e+205, 1.7141737416982666e+207, 1.3641023698169269e+209, 1.0856919740877147e+211, 8.642365963588388e+212, 6.880561694583165e+214, 5.478721597682403e+216, 4.363124299232417e+218, 3.475184710167884e+220, 2.7683380304898064e+222, 2.205567007579628e+224, 1.7574392602485103e+226, 1.4005491728103826e+228, 1.116280740181398e+230, 8.898250437574968e+231, 7.093997769991182e+233, 5.65629211488953e+235, 4.510514877086336e+237, 3.5972704406885075e+239, 2.8692733654642046e+241, 2.2888737689378048e+243, 1.8260894887358177e+245, 1.4570411466836726e+247, 1.1627072456522316e+249, 9.279338597801402e+250, 7.406466122061675e+252, 5.912235711566044e+254, 4.719961349497439e+256, 3.768517062599362e+258, 3.0091734870042916e+260, 2.4030788599526067e+262, 1.91925313382582e+264, 1.5329900162501204e+266, 1.224584129813012e+268, 9.783169547772094e+269, 7.816487081108704e+271]\n"
          ]
        }
      ],
      "source": [
        "train_MSEs_reg = []   # np.zeros(MAX_ORDER)\n",
        "test_MSEs_reg = []    #np.zeros(MAX_ORDER)\n",
        "\n",
        "LAMBDA = 1\n",
        "\n",
        "for order in range(1, MAX_ORDER+1):\n",
        "    poly = PolynomialFeatures(order)\n",
        "    P_train = poly.fit_transform(X_train)\n",
        "    P_test = poly.fit_transform(X_test)\n",
        "    # print(P_train)\n",
        "\n",
        "    if P_train.shape[0] >= P_train.shape[1]:\n",
        "        reg = LAMBDA * np.identity(P_train.shape[1])\n",
        "        W = np.linalg.inv(P_train.T @ P_train + reg) @ P_train.T @ Y_train\n",
        "    else:\n",
        "        reg = LAMBDA * np.identity(P_train.shape[0])\n",
        "        W = P_train.T @ np.linalg.inv(P_train @ P_train.T + reg) @ Y_train\n",
        "\n",
        "    P_train_pred = P_train @ W\n",
        "    P_test_pred = P_test @ W\n",
        "\n",
        "    train_MSEs_reg.append(mean_squared_error(Y_train, P_train_pred))\n",
        "    test_MSEs_reg.append(mean_squared_error(Y_test, P_test_pred))\n",
        "\n",
        "    # train_MSEs_reg[order - 1] = mean_squared_error(Y_train, P_train_pred)\n",
        "\n",
        "print(train_MSEs_reg)\n",
        "print(test_MSEs_reg)"
      ]
    },
    {
      "cell_type": "code",
      "execution_count": null,
      "id": "d35e2635dadb23dd",
      "metadata": {
        "ExecuteTime": {
          "end_time": "2024-03-04T12:33:57.558842900Z",
          "start_time": "2024-03-04T12:33:57.368779500Z"
        },
        "colab": {
          "base_uri": "https://localhost:8080/",
          "height": 449
        },
        "id": "d35e2635dadb23dd",
        "outputId": "c896c125-fa1f-44e7-ca2b-bc932a47c3cd"
      },
      "outputs": [
        {
          "data": {
            "image/png": "[encoded data removed]",
            "text/plain": [
              "<Figure size 640x480 with 1 Axes>"
            ]
          },
          "metadata": {},
          "output_type": "display_data"
        }
      ],
      "source": [
        "plot_x = np.array(range(1, MAX_ORDER + 1))\n",
        "plt.plot(plot_x, train_MSEs_reg, label=\"train\")\n",
        "plt.plot(plot_x, test_MSEs_reg, label=\"test\")\n",
        "plt.xlabel(\"Polynomial Order\")\n",
        "plt.ylabel(\"MSE\")\n",
        "plt.legend()\n",
        "plt.show()"
      ]
    }
  ],
  "metadata": {
    "colab": {
      "provenance": []
    },
    "kernelspec": {
      "display_name": "Python 3",
      "language": "python",
      "name": "python3"
    },
    "language_info": {
      "codemirror_mode": {
        "name": "ipython",
        "version": 3
      },
      "file_extension": ".py",
      "mimetype": "text/x-python",
      "name": "python",
      "nbconvert_exporter": "python",
      "pygments_lexer": "ipython3",
      "version": "3.8.18"
    }
  },
  "nbformat": 4,
  "nbformat_minor": 5
}
