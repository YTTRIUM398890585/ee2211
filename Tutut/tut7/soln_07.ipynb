{
  "cells": [
    {
      "cell_type": "code",
      "execution_count": 12,
      "id": "initial_id",
      "metadata": {
        "ExecuteTime": {
          "end_time": "2024-03-04T12:33:57.060526800Z",
          "start_time": "2024-03-04T12:33:56.999011Z"
        },
        "collapsed": true,
        "id": "initial_id"
      },
      "outputs": [],
      "source": [
        "import numpy as np\n",
        "from sklearn.preprocessing import PolynomialFeatures\n",
        "from sklearn.metrics import mean_squared_error\n",
        "import matplotlib.pyplot as plt"
      ]
    },
    {
      "cell_type": "markdown",
      "id": "9235785245819d43",
      "metadata": {
        "collapsed": false,
        "id": "9235785245819d43"
      },
      "source": [
        "# Question 1\n",
        "\n",
        "This question explores the use of Pearson's correlation as a feature selection metric. We are given the following training dataset:"
      ]
    },
    {
      "cell_type": "code",
      "execution_count": 13,
      "id": "3bddf51787934c57",
      "metadata": {
        "ExecuteTime": {
          "end_time": "2024-03-04T12:33:57.085025900Z",
          "start_time": "2024-03-04T12:33:57.064028800Z"
        },
        "id": "3bddf51787934c57"
      },
      "outputs": [],
      "source": [
        "f1 = np.array([0.3510, 2.1812, 0.2415, -0.1096, 0.1544])\n",
        "f2 = np.array([1.1796, 2.1068, 1.7753, 1.2747, 2.0851])\n",
        "f3 = np.array([-0.9852, 1.3766, -1.3244, -0.6316, -0.8320])\n",
        "y = np.array([0.2758, 1.4392, -0.4611, 0.6154, 1.0006])"
      ]
    },
    {
      "cell_type": "markdown",
      "id": "2cc7628fd6d4f136",
      "metadata": {
        "collapsed": false,
        "id": "2cc7628fd6d4f136"
      },
      "source": [
        "What are the top two features we should select if we use Pearson's correlation as a feature selection metric?"
      ]
    },
    {
      "cell_type": "code",
      "execution_count": 14,
      "id": "b73b8c9fcf0dd541",
      "metadata": {
        "ExecuteTime": {
          "end_time": "2024-03-04T12:33:57.119266Z",
          "start_time": "2024-03-04T12:33:57.090248800Z"
        },
        "colab": {
          "base_uri": "https://localhost:8080/"
        },
        "id": "b73b8c9fcf0dd541",
        "outputId": "6a0e6e6d-30ee-4328-d839-4d9433a6bc16"
      },
      "outputs": [
        {
          "name": "stdout",
          "output_type": "stream",
          "text": [
            "[[0.6772 0.3188]\n",
            " [0.3188 0.4185]]\n",
            "0.5987722845227617\n",
            "0.45369218508997844\n",
            "0.8008916458435772\n"
          ]
        }
      ],
      "source": [
        "mu_1 = f1.mean()\n",
        "mu_2 = f2.mean()\n",
        "mu_3 = f3.mean()\n",
        "mu_y = y.mean()\n",
        "\n",
        "sd_1 = f1.std()\n",
        "sd_2 = f2.std()\n",
        "sd_3 = f3.std()\n",
        "sd_y = y.std()\n",
        "\n",
        "cov_1 = np.cov(f1, y, bias=True)[0, 1]\n",
        "cov_2 = np.cov(f2, y, bias=True)[0, 1]\n",
        "cov_3 = np.cov(f3, y, bias=True)[0, 1]\n",
        "print(np.cov(f1, y, bias=True))\n",
        "\n",
        "cor_1 = cov_1 / (sd_1 * sd_y)\n",
        "cor_2 = cov_2 / (sd_2 * sd_y)\n",
        "cor_3 = cov_3 / (sd_3 * sd_y)\n",
        "\n",
        "print(cor_1)\n",
        "print(cor_2)\n",
        "print(cor_3)"
      ]
    },
    {
      "cell_type": "code",
      "execution_count": 15,
      "id": "bf48ad9ee369bf24",
      "metadata": {
        "ExecuteTime": {
          "end_time": "2024-03-04T12:33:57.152929900Z",
          "start_time": "2024-03-04T12:33:57.122780500Z"
        },
        "colab": {
          "base_uri": "https://localhost:8080/"
        },
        "id": "bf48ad9ee369bf24",
        "outputId": "58cee1b2-9942-4269-99d6-4746b0c19832"
      },
      "outputs": [
        {
          "name": "stdout",
          "output_type": "stream",
          "text": [
            "0.5987722845227617\n",
            "0.4536921850899784\n",
            "0.8008916458435771\n",
            "[[1.     0.5988]\n",
            " [0.5988 1.    ]]\n"
          ]
        }
      ],
      "source": [
        "print(np.corrcoef(f1, y)[0, 1])\n",
        "print(np.corrcoef(f2, y)[0, 1])\n",
        "print(np.corrcoef(f3, y)[0, 1])\n",
        "print(np.corrcoef(f1, y))"
      ]
    },
    {
      "cell_type": "markdown",
      "id": "534c7d17fd5f6c9e",
      "metadata": {
        "collapsed": false,
        "id": "534c7d17fd5f6c9e"
      },
      "source": [
        "# Question 2\n",
        "\n",
        "This question further explores linear and ridge regression. The following data pairs are used for training:"
      ]
    },
    {
      "cell_type": "code",
      "execution_count": 16,
      "id": "75c3501c1c9e43e9",
      "metadata": {
        "ExecuteTime": {
          "end_time": "2024-03-04T12:33:57.186727200Z",
          "start_time": "2024-03-04T12:33:57.156337400Z"
        },
        "id": "75c3501c1c9e43e9"
      },
      "outputs": [],
      "source": [
        "# training data\n",
        "X_train = np.array([-10, -8, -3, -1, 2, 7]).reshape((-1, 1))\n",
        "Y_train = np.array([4.18, 2.42, 0.22, 0.12, 0.25, 3.09]).reshape((-1, 1))"
      ]
    },
    {
      "cell_type": "markdown",
      "id": "6dde2a7c54aff1bb",
      "metadata": {
        "collapsed": false,
        "id": "6dde2a7c54aff1bb"
      },
      "source": [
        "The data for testing are as follows:"
      ]
    },
    {
      "cell_type": "code",
      "execution_count": 17,
      "id": "410713d246405168",
      "metadata": {
        "ExecuteTime": {
          "end_time": "2024-03-04T12:33:57.213355400Z",
          "start_time": "2024-03-04T12:33:57.161372100Z"
        },
        "id": "410713d246405168"
      },
      "outputs": [],
      "source": [
        "# test data\n",
        "X_test = np.array([-9, -7, -5, -4, -2, 1, 4, 5, 6, 9]).reshape((-1, 1))\n",
        "Y_test = np.array([3, 1.81, 0.80, 0.25, -0.19, 0.4, 1.24, 1.68, 2.32, 5.05]).reshape((-1, 1))"
      ]
    },
    {
      "cell_type": "markdown",
      "id": "6142ea39c0b53baf",
      "metadata": {
        "collapsed": false,
        "id": "6142ea39c0b53baf"
      },
      "source": [
        "## Part a\n",
        "\n",
        "Use the polynomial model from orders 1 to 6 to train and test the data without regularization. Plot the MSE over orders from 1 to 6 for both the training and the test sets. Which model order provides the best MSE in the training and test sets? Why?"
      ]
    },
    {
      "cell_type": "code",
      "execution_count": 18,
      "id": "9b3e1ed7902199a1",
      "metadata": {
        "ExecuteTime": {
          "end_time": "2024-03-04T12:33:57.213854300Z",
          "start_time": "2024-03-04T12:33:57.192768100Z"
        },
        "id": "9b3e1ed7902199a1"
      },
      "outputs": [],
      "source": [
        "MAX_ORDER = 30\n",
        "np.set_printoptions(precision=4)\n",
        "\n",
        "# data for plotting curves\n",
        "x_plot = np.linspace(-10, 10, 100)"
      ]
    },
    {
      "cell_type": "code",
      "execution_count": 19,
      "id": "184bb874052592fb",
      "metadata": {
        "ExecuteTime": {
          "end_time": "2024-03-04T12:33:57.238766600Z",
          "start_time": "2024-03-04T12:33:57.224607900Z"
        },
        "colab": {
          "base_uri": "https://localhost:8080/"
        },
        "id": "184bb874052592fb",
        "outputId": "8f175d2c-f0d4-49ca-e8f4-bbaec822cedc"
      },
      "outputs": [
        {
          "name": "stdout",
          "output_type": "stream",
          "text": [
            "[2.3070729253981557, 0.008440835471198293, 0.0083026159070491, 0.0017347778137363516, 3.860607659026733e-25, 1.4781923101220727e-17, 2.322752682468194e-16, 1.635082563175943e-13, 7.113868601377851e-13, 4.767473480811858e-11, 1.666257829328616e-11, 1.5277977719499835e-06, 2.7761470910044558e-05, 0.0032152303381050348, 0.6189767329154813, 0.5976784745583653, 1813.9405527831304, 4416.478105427893, 35169180.139082186, 437806573.3362065, 54363115032.24775, 20228698671828.74, 796258879459632.9, 1.6995423612561018e+17, 8.766783869007027e+18, 2.478245581488931e+19, 7.719741875774136e+22, 3.770567479611282e+23, 6.539490325654769e+26, 6.550785236267392e+28]\n",
            "[3.0006478167488604, 0.029594585750404377, 0.03011128182353708, 0.08535502039490317, 1.054823988048789, 10.76736645005596, 2.1505668981811428, 27960.903818582236, 219535.84955085, 54514281.52764622, 1542545843.257259, 151326613254.225, 7393807698458.597, 556561130549815.6, 3.39450986456064e+16, 2.396924444703143e+18, 1.600681833024551e+20, 1.1257028780433011e+22, 7.8384679322898e+23, 5.573909189344849e+25, 3.9728969536740905e+27, 2.8621954027467253e+29, 2.0720982611261944e+31, 1.5103811368606187e+33, 1.1062701867092796e+35, 8.143939992360202e+36, 6.0206983375663976e+38, 4.469111116366611e+40, 3.329400414693486e+42, 2.4887332766991527e+44]\n"
          ]
        }
      ],
      "source": [
        "train_MSEs = []  # np.zeros(MAX_ORDER)\n",
        "test_MSEs = []   # np.zeros(MAX_ORDER)\n",
        "\n",
        "for order in range(1, MAX_ORDER+1):\n",
        "    poly = PolynomialFeatures(order)\n",
        "    P_train = poly.fit_transform(X_train)\n",
        "    P_test = poly.fit_transform(X_test)\n",
        "    # print(P_train)\n",
        "\n",
        "    if P_train.shape[0] >= P_train.shape[1]: # 1-5 primal\n",
        "        W = np.linalg.inv(P_train.T @ P_train) @ P_train.T @ Y_train\n",
        "    else: # 6 dual\n",
        "        W = P_train.T @ np.linalg.inv(P_train @ P_train.T) @ Y_train\n",
        "\n",
        "    P_train_pred = P_train @ W\n",
        "    P_test_pred = P_test @ W\n",
        "\n",
        "    train_MSEs.append(mean_squared_error(Y_train, P_train_pred))\n",
        "    test_MSEs.append(mean_squared_error(Y_test, P_test_pred))\n",
        "    #test_MSEs[order - 1] = mean_squared_error(Y_test, P_test_pred)\n",
        "\n",
        "print(train_MSEs)\n",
        "print(test_MSEs)"
      ]
    },
    {
      "cell_type": "code",
      "execution_count": 20,
      "id": "a4c6b3d565d0366a",
      "metadata": {
        "ExecuteTime": {
          "end_time": "2024-03-04T12:33:57.361912800Z",
          "start_time": "2024-03-04T12:33:57.238766600Z"
        },
        "colab": {
          "base_uri": "https://localhost:8080/",
          "height": 449
        },
        "id": "a4c6b3d565d0366a",
        "outputId": "ce49e7c3-5b82-4a5d-96c1-a2638b96d84b"
      },
      "outputs": [
        {
          "data": {
            "image/png": "[encoded data removed]",
            "text/plain": [
              "<Figure size 640x480 with 1 Axes>"
            ]
          },
          "metadata": {},
          "output_type": "display_data"
        }
      ],
      "source": [
        "plot_x = np.array(range(1, MAX_ORDER+1))\n",
        "plt.plot(plot_x, train_MSEs, label=\"train\")\n",
        "plt.plot(plot_x, test_MSEs, label=\"test\")\n",
        "plt.xlabel(\"Polynomial Order\")\n",
        "plt.ylabel(\"MSE\")\n",
        "plt.legend()\n",
        "plt.show()"
      ]
    },
    {
      "cell_type": "markdown",
      "id": "620080d3fd7441c8",
      "metadata": {
        "collapsed": false,
        "id": "620080d3fd7441c8"
      },
      "source": [
        "## Part b\n",
        "\n",
        "Use regularization (ridge regression) `lambda=1` for all orders and repeat the same analyses. Compare the plots of (a) and (b). What do you see?"
      ]
    },
    {
      "cell_type": "code",
      "execution_count": 21,
      "id": "2e00ac2eff8dd15f",
      "metadata": {
        "ExecuteTime": {
          "end_time": "2024-03-04T12:33:57.385130200Z",
          "start_time": "2024-03-04T12:33:57.355380800Z"
        },
        "colab": {
          "base_uri": "https://localhost:8080/"
        },
        "id": "2e00ac2eff8dd15f",
        "outputId": "3e4dbd3c-985c-44cf-abbe-5359c7f93af2"
      },
      "outputs": [
        {
          "name": "stdout",
          "output_type": "stream",
          "text": [
            "[2.3585531011197105, 0.008456477077018444, 0.008356013483798833, 0.001807976222390347, 0.0007264963730617796, 0.00019347846088121716, 0.00021006219280030516, 0.00010800976550158301, 8.41256691087616e-05, 5.6910199103238124e-05, 4.4119837134425876e-05, 3.3773647129502766e-05, 5.7422315456067714e-05, 0.00014439714233174114, 0.43446959729681445, 24.29692452140203, 5.3656611862921855, 247593.18732521168, 863665.4299649261, 1437590165.4157057, 93451945.5148596, 8376469656186.126, 2673922426524157.0, 122489315722576.45, 5.388930576659721e+19, 1.92136663956865e+20, 9.304635630396475e+22, 6.066402635734564e+24, 1.1736285997980705e+27, 3.4641203221855225e+26]\n",
            "[3.2755677280832316, 0.030169873887064692, 0.031417148304253864, 0.09393142698402805, 0.4368968008239905, 6.02023594611855, 16.33645034466042, 20417.500086622582, 97265.57730060458, 41637067.03682511, 1087658517.1758678, 119956137029.13225, 5830875412081.731, 457329457536198.3, 2.8169729344701828e+16, 2.0291043877662339e+18, 1.3698126252774977e+20, 9.752294534310506e+21, 6.852808165237522e+23, 4.915679704880598e+25, 3.529417380588829e+27, 2.559739677501799e+29, 1.8640551589162345e+31, 1.366001984660548e+33, 1.0053333890918944e+35, 7.433314585780862e+36, 5.517283981243925e+38, 4.1104242367166677e+40, 3.072489457251329e+42, 2.303823889866978e+44]\n"
          ]
        }
      ],
      "source": [
        "train_MSEs_reg = []   # np.zeros(MAX_ORDER)\n",
        "test_MSEs_reg = []    #np.zeros(MAX_ORDER)\n",
        "\n",
        "LAMBDA = 1\n",
        "\n",
        "for order in range(1, MAX_ORDER+1):\n",
        "    poly = PolynomialFeatures(order)\n",
        "    P_train = poly.fit_transform(X_train)\n",
        "    P_test = poly.fit_transform(X_test)\n",
        "    # print(P_train)\n",
        "\n",
        "    if P_train.shape[0] >= P_train.shape[1]:\n",
        "        reg = LAMBDA * np.identity(P_train.shape[1])\n",
        "        W = np.linalg.inv(P_train.T @ P_train + reg) @ P_train.T @ Y_train\n",
        "    else:\n",
        "        reg = LAMBDA * np.identity(P_train.shape[0])\n",
        "        W = P_train.T @ np.linalg.inv(P_train @ P_train.T + reg) @ Y_train\n",
        "\n",
        "    P_train_pred = P_train @ W\n",
        "    P_test_pred = P_test @ W\n",
        "\n",
        "    train_MSEs_reg.append(mean_squared_error(Y_train, P_train_pred))\n",
        "    test_MSEs_reg.append(mean_squared_error(Y_test, P_test_pred))\n",
        "\n",
        "    # train_MSEs_reg[order - 1] = mean_squared_error(Y_train, P_train_pred)\n",
        "\n",
        "print(train_MSEs_reg)\n",
        "print(test_MSEs_reg)"
      ]
    },
    {
      "cell_type": "code",
      "execution_count": 22,
      "id": "d35e2635dadb23dd",
      "metadata": {
        "ExecuteTime": {
          "end_time": "2024-03-04T12:33:57.558842900Z",
          "start_time": "2024-03-04T12:33:57.368779500Z"
        },
        "colab": {
          "base_uri": "https://localhost:8080/",
          "height": 449
        },
        "id": "d35e2635dadb23dd",
        "outputId": "c896c125-fa1f-44e7-ca2b-bc932a47c3cd"
      },
      "outputs": [
        {
          "data": {
            "image/png": "[encoded data removed]",
            "text/plain": [
              "<Figure size 640x480 with 1 Axes>"
            ]
          },
          "metadata": {},
          "output_type": "display_data"
        }
      ],
      "source": [
        "plot_x = np.array(range(1, MAX_ORDER + 1))\n",
        "plt.plot(plot_x, train_MSEs_reg, label=\"train\")\n",
        "plt.plot(plot_x, test_MSEs_reg, label=\"test\")\n",
        "plt.xlabel(\"Polynomial Order\")\n",
        "plt.ylabel(\"MSE\")\n",
        "plt.legend()\n",
        "plt.show()"
      ]
    }
  ],
  "metadata": {
    "colab": {
      "provenance": []
    },
    "kernelspec": {
      "display_name": "Python 3",
      "language": "python",
      "name": "python3"
    },
    "language_info": {
      "codemirror_mode": {
        "name": "ipython",
        "version": 3
      },
      "file_extension": ".py",
      "mimetype": "text/x-python",
      "name": "python",
      "nbconvert_exporter": "python",
      "pygments_lexer": "ipython3",
      "version": "3.8.18"
    }
  },
  "nbformat": 4,
  "nbformat_minor": 5
}
