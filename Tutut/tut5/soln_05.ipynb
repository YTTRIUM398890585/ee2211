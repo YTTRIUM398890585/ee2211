{
  "cells": [
    {
      "cell_type": "code",
      "execution_count": 1,
      "id": "initial_id",
      "metadata": {
        "collapsed": true,
        "ExecuteTime": {
          "end_time": "2023-09-19T03:30:16.994959800Z",
          "start_time": "2023-09-19T03:30:16.297482400Z"
        },
        "id": "initial_id"
      },
      "outputs": [],
      "source": [
        "import numpy as np\n",
        "import pandas as pd\n",
        "import matplotlib.pyplot as plt\n",
        "from sklearn.metrics import mean_squared_error"
      ]
    },
    {
      "cell_type": "markdown",
      "source": [
        "# Question 5\n",
        "Download the data file “government-expenditure-on-education.csv” from Canvas Tutorial Folder.\n",
        "It depicts the government’s educational expenditure over the years (downloaded in July 2021 from https://data.gov.sg/dataset/government-expenditure-on-education)\n",
        "Predict the educational expenditure of year 2021 based on linear regression. Solve the problem using Python with a plot. Note: please use the file from the canvas link.\n",
        "Hint: use Python packages like numpy, pandas, matplotlib.pyplot, numpy.linalg."
      ],
      "metadata": {
        "collapsed": false,
        "id": "cc658461b39d3aa"
      },
      "id": "cc658461b39d3aa"
    },
    {
      "cell_type": "code",
      "execution_count": 2,
      "outputs": [
        {
          "output_type": "stream",
          "name": "stdout",
          "text": [
            "   year  recurrent_expenditure_total\n",
            "0  1981                       712732\n",
            "1  1982                       983751\n",
            "2  1983                      1107113\n",
            "3  1984                      1272559\n",
            "4  1985                      1388186\n",
            "[[1, 1, 1, 1, 1, 1, 1, 1, 1, 1, 1, 1, 1, 1, 1, 1, 1, 1, 1, 1, 1, 1, 1, 1, 1, 1, 1, 1, 1, 1, 1, 1, 1, 1, 1, 1, 1, 1, 1], [1981, 1982, 1983, 1984, 1985, 1986, 1987, 1988, 1989, 1990, 1991, 1992, 1993, 1994, 1995, 1996, 1997, 1998, 1999, 2000, 2001, 2002, 2003, 2004, 2005, 2006, 2007, 2008, 2009, 2010, 2011, 2012, 2013, 2014, 2015, 2016, 2017, 2018, 2019]]\n",
            "[-6.4843247e+08  3.2683591e+05]\n"
          ]
        }
      ],
      "source": [
        "df = pd.read_csv('government-expenditure-on-education.csv')\n",
        "print(df.head(5))\n",
        "\n",
        "expenditure_list = df['recurrent_expenditure_total'].tolist()\n",
        "yearList = df['year'].tolist()\n",
        "\n",
        "m_list = [[1]*len(yearList), yearList]\n",
        "print(m_list)\n",
        "\n",
        "X = np.array(m_list).T\n",
        "y = np.array(expenditure_list)\n",
        "\n",
        "w = np.linalg.inv(X.T @ X) @ X.T @ y\n",
        "print(w)"
      ],
      "metadata": {
        "ExecuteTime": {
          "end_time": "2023-09-19T03:30:23.485321700Z",
          "start_time": "2023-09-19T03:30:21.025858900Z"
        },
        "colab": {
          "base_uri": "https://localhost:8080/"
        },
        "id": "965f03cef9c32eb9",
        "outputId": "e24b3502-1d4c-4b08-da9e-e74556a68ad7"
      },
      "id": "965f03cef9c32eb9"
    },
    {
      "cell_type": "code",
      "execution_count": 3,
      "outputs": [
        {
          "output_type": "display_data",
          "data": {
            "text/plain": [
              "<Figure size 640x480 with 1 Axes>"
            ],
            "image/png": "[encoded data removed]"
          },
          "metadata": {}
        }
      ],
      "source": [
        "y_line = X @ w\n",
        "plt.plot(yearList, expenditure_list, 'o', label=\"Expenditure over the years\")\n",
        "plt.plot(yearList, y_line)\n",
        "plt.xlabel('Year')\n",
        "plt.ylabel('Expenditure')\n",
        "plt.show()"
      ],
      "metadata": {
        "ExecuteTime": {
          "end_time": "2023-09-19T03:32:00.146811100Z",
          "start_time": "2023-09-19T03:31:57.518832800Z"
        },
        "colab": {
          "base_uri": "https://localhost:8080/",
          "height": 465
        },
        "id": "2b46eba4fecbed0d",
        "outputId": "ba4230f7-d0a2-4b3e-a413-dc47adffbb61"
      },
      "id": "2b46eba4fecbed0d"
    },
    {
      "cell_type": "code",
      "execution_count": 4,
      "outputs": [
        {
          "output_type": "stream",
          "name": "stdout",
          "text": [
            "12102904.270643115\n"
          ]
        }
      ],
      "source": [
        "y_predict = np.array([1, 2021]) @ w\n",
        "print(y_predict)"
      ],
      "metadata": {
        "ExecuteTime": {
          "end_time": "2023-09-19T03:33:26.740107400Z",
          "start_time": "2023-09-19T03:33:26.167710200Z"
        },
        "colab": {
          "base_uri": "https://localhost:8080/"
        },
        "id": "c2d196a504511e7c",
        "outputId": "2e55a90a-4779-421a-8ead-b7085472082c"
      },
      "id": "c2d196a504511e7c"
    },
    {
      "cell_type": "markdown",
      "source": [
        "# Question 6\n",
        "Download the CSV file for red-wine using “ wine = pd.read_csv(\"https://archive.ics.uci.edu/ml/machine-learning-\n",
        "databases/wine-quality/winequality-red.csv\",sep=';') ” . Use Python to perform the following tasks. Hint: use Python packages like numpy, pandas, matplotlib.pyplot, numpy.linalg, and sklearn.metrics."
      ],
      "metadata": {
        "collapsed": false,
        "id": "b9d8dd0d4b345aab"
      },
      "id": "b9d8dd0d4b345aab"
    },
    {
      "cell_type": "code",
      "execution_count": 5,
      "outputs": [
        {
          "output_type": "stream",
          "name": "stdout",
          "text": [
            "<class 'pandas.core.frame.DataFrame'>\n",
            "RangeIndex: 1599 entries, 0 to 1598\n",
            "Data columns (total 12 columns):\n",
            " #   Column                Non-Null Count  Dtype  \n",
            "---  ------                --------------  -----  \n",
            " 0   fixed acidity         1599 non-null   float64\n",
            " 1   volatile acidity      1599 non-null   float64\n",
            " 2   citric acid           1599 non-null   float64\n",
            " 3   residual sugar        1599 non-null   float64\n",
            " 4   chlorides             1599 non-null   float64\n",
            " 5   free sulfur dioxide   1599 non-null   float64\n",
            " 6   total sulfur dioxide  1599 non-null   float64\n",
            " 7   density               1599 non-null   float64\n",
            " 8   pH                    1599 non-null   float64\n",
            " 9   sulphates             1599 non-null   float64\n",
            " 10  alcohol               1599 non-null   float64\n",
            " 11  quality               1599 non-null   int64  \n",
            "dtypes: float64(11), int64(1)\n",
            "memory usage: 150.0 KB\n"
          ]
        }
      ],
      "source": [
        "wine = pd.read_csv(\"https://archive.ics.uci.edu/ml/machine-learning-databases/wine-quality/winequality-red.csv\", sep=\";\")\n",
        "wine.info()"
      ],
      "metadata": {
        "ExecuteTime": {
          "end_time": "2023-09-18T07:33:18.152648500Z",
          "start_time": "2023-09-18T07:33:16.897221800Z"
        },
        "colab": {
          "base_uri": "https://localhost:8080/"
        },
        "id": "e5768d21aae8bca1",
        "outputId": "9548b0c5-0010-416b-8534-edbdf1b72fab"
      },
      "id": "e5768d21aae8bca1"
    },
    {
      "cell_type": "markdown",
      "source": [
        "(a) Take y = wine.quality as the target output and x = wine.drop('quality',axis = 1)as the input features. Assume the given list of data is already randomly indexed (i.e., not in particular order), split the database into two sets: [0:1500] samples for regression training, and [1500:1599] samples for testing."
      ],
      "metadata": {
        "id": "hQdRymKFHNRB"
      },
      "id": "hQdRymKFHNRB"
    },
    {
      "cell_type": "code",
      "execution_count": 6,
      "outputs": [
        {
          "output_type": "stream",
          "name": "stdout",
          "text": [
            "[ 2.22330327e+01  2.68702621e-02 -1.12838019e+00 -2.06141685e-01\n",
            "  1.22000584e-02 -1.77718503e+00  4.29357454e-03 -3.18953315e-03\n",
            " -1.81795124e+01 -3.98142390e-01  8.92474793e-01  2.77147239e-01]\n"
          ]
        }
      ],
      "source": [
        "y = wine.quality\n",
        "x = wine.drop('quality',axis=1)\n",
        "x0 = np.ones((len(y), 1))\n",
        "X = np.hstack((x0, x))\n",
        "X_train = X[0:1500]\n",
        "X_test = X[1500:1599]\n",
        "Y_train = y[0:1500]\n",
        "Y_test = y[1500:1599]\n",
        "\n",
        "w = np.linalg.inv(X_train.T @ X_train) @ X_train.T @ Y_train\n",
        "print(w)"
      ],
      "metadata": {
        "ExecuteTime": {
          "end_time": "2023-09-18T07:40:40.655072300Z",
          "start_time": "2023-09-18T07:40:40.607831Z"
        },
        "colab": {
          "base_uri": "https://localhost:8080/"
        },
        "id": "78d81a5942898169",
        "outputId": "5a2a713e-86b9-4433-a9d5-add5e9a6bdaf"
      },
      "id": "78d81a5942898169"
    },
    {
      "cell_type": "markdown",
      "source": [
        "(b) Perform linear regression on the training set and print out the learned parameters."
      ],
      "metadata": {
        "id": "yM3y6gcJHb3O"
      },
      "id": "yM3y6gcJHb3O"
    },
    {
      "cell_type": "code",
      "execution_count": 7,
      "outputs": [
        {
          "output_type": "stream",
          "name": "stdout",
          "text": [
            "[5.22358969 4.95419269 5.26209445 5.86584451 5.9160243  5.22187268\n",
            " 5.45741818 5.9160243  5.97174753 6.36068801 5.73343936 5.35445142\n",
            " 5.36915988 5.55975065 4.85253773 4.85715685 6.12898419 5.8569253\n",
            " 5.63234781 5.27766648 5.8569253  5.11649704 6.12898419 5.63583061\n",
            " 5.74211515 5.57129983 5.56670503 5.87565718 5.72705595 5.44936076\n",
            " 6.09893453 5.30772937 5.7008142  5.26819369 5.99290411 5.3921917\n",
            " 5.5627438  5.53138362 5.89807073 5.7163139  5.91366689 6.17286819\n",
            " 5.43865144 5.82239615 6.3267582  5.46364161 5.59163421 5.94937494\n",
            " 5.77577914 6.27104372 5.11227724 5.1196922  5.67927328 5.1186817\n",
            " 5.41460515 5.71728184 5.03119625 5.41460515 4.93008883 5.12850668\n",
            " 5.12850668 5.12850668 5.36679981 5.36679981 5.36679981 5.86178667\n",
            " 6.27893471 5.36679981 5.25294173 5.91557201 6.34292206 6.0870036\n",
            " 4.95705089 6.05381686 5.58424067 6.13297545 6.1022181  5.78901333\n",
            " 5.70528084 5.86373835 6.24567625 5.86373835 5.73615777 5.38048918\n",
            " 6.41004616 6.28699304 6.36974238 5.68154445 6.21275051 4.97314191\n",
            " 6.20600472 5.55563032 5.94423048 5.48802797 5.53491049 5.96185414\n",
            " 5.94423048 5.46922255 6.00617004]\n"
          ]
        }
      ],
      "source": [
        "Y_test_estimate = X_test @ w\n",
        "print(Y_test_estimate)"
      ],
      "metadata": {
        "ExecuteTime": {
          "end_time": "2023-09-18T07:42:43.502490100Z",
          "start_time": "2023-09-18T07:42:43.448907Z"
        },
        "colab": {
          "base_uri": "https://localhost:8080/"
        },
        "id": "f1d7f570753f13a9",
        "outputId": "1b2a8081-0a5d-4e22-f620-e3b91f0a507b"
      },
      "id": "f1d7f570753f13a9"
    },
    {
      "cell_type": "markdown",
      "source": [
        "(c) Perform prediction using the test set and provide the prediction accuracy in terms of the mean of squared\n",
        "errors (MSE)."
      ],
      "metadata": {
        "id": "6u8K5_yWHh5W"
      },
      "id": "6u8K5_yWHh5W"
    },
    {
      "cell_type": "code",
      "execution_count": 8,
      "outputs": [
        {
          "output_type": "stream",
          "name": "stdout",
          "text": [
            "0.3435263809724568\n"
          ]
        }
      ],
      "source": [
        "MSE = mean_squared_error(Y_test, Y_test_estimate)\n",
        "print(MSE)"
      ],
      "metadata": {
        "ExecuteTime": {
          "end_time": "2023-09-18T07:44:08.228856700Z",
          "start_time": "2023-09-18T07:44:08.222841800Z"
        },
        "colab": {
          "base_uri": "https://localhost:8080/"
        },
        "id": "60f904c548bcc602",
        "outputId": "88cd10e9-ad19-45a0-ce18-5429d4c6c953"
      },
      "id": "60f904c548bcc602"
    },
    {
      "cell_type": "markdown",
      "source": [
        "# Question 9\n",
        "The values of feature vector x and their corresponding values of target vector y are shown in the table below:\n",
        "[3, -1, 0]\n",
        "[5, 1, 2]\n",
        "[9, -1, 3]\n",
        "[-6, 7, 2]\n",
        "[3, -2, 0]\n",
        "[1, -1]\n",
        "[-1, 0]\n",
        "[1, 2]\n",
        "[0, 3]\n",
        "[1, -2]\n",
        "Find the least square solution of w using linear regression of multiple outputs and then estimate the value of y when x = [8, 0, 2]."
      ],
      "metadata": {
        "collapsed": false,
        "id": "9b39b733b99cd66c"
      },
      "id": "9b39b733b99cd66c"
    },
    {
      "cell_type": "code",
      "execution_count": 9,
      "outputs": [
        {
          "output_type": "stream",
          "name": "stdout",
          "text": [
            "[[ 1.14668974 -0.95997404]\n",
            " [-0.630463   -0.33427088]\n",
            " [-1.10601471 -0.24426655]\n",
            " [ 1.3595846   1.77953267]]\n"
          ]
        }
      ],
      "source": [
        "x = np.array([[1, 3, -1, 0], [1, 5, 1, 2], [1, 9, -1, 3], [1, -6, 7, 2], [1, 3, -2, 0]])\n",
        "y = np.array([[1, -1], [-1, 0], [1, 2], [0, 3], [1, -2]])\n",
        "\n",
        "w = np.linalg.inv(x.T@x)@x.T@y\n",
        "\n",
        "print(w)"
      ],
      "metadata": {
        "ExecuteTime": {
          "end_time": "2023-09-18T07:52:59.728678500Z",
          "start_time": "2023-09-18T07:52:59.676301900Z"
        },
        "colab": {
          "base_uri": "https://localhost:8080/"
        },
        "id": "27d36b7297962476",
        "outputId": "4eb315a3-9ac4-4b31-f645-875e6fd468f0"
      },
      "id": "27d36b7297962476"
    },
    {
      "cell_type": "code",
      "execution_count": 10,
      "outputs": [
        {
          "output_type": "stream",
          "name": "stdout",
          "text": [
            "[-1.17784509 -0.07507572]\n"
          ]
        }
      ],
      "source": [
        "test_sample = np.array([1, 8, 0, 2])\n",
        "print(test_sample@w)"
      ],
      "metadata": {
        "ExecuteTime": {
          "end_time": "2023-09-18T07:53:13.952051Z",
          "start_time": "2023-09-18T07:53:13.948535400Z"
        },
        "colab": {
          "base_uri": "https://localhost:8080/"
        },
        "id": "2cd4d98b4a0b00ed",
        "outputId": "83a54fd2-847b-4e97-ada7-68c24225cb9c"
      },
      "id": "2cd4d98b4a0b00ed"
    }
  ],
  "metadata": {
    "kernelspec": {
      "display_name": "Python 3",
      "language": "python",
      "name": "python3"
    },
    "language_info": {
      "codemirror_mode": {
        "name": "ipython",
        "version": 2
      },
      "file_extension": ".py",
      "mimetype": "text/x-python",
      "name": "python",
      "nbconvert_exporter": "python",
      "pygments_lexer": "ipython2",
      "version": "2.7.6"
    },
    "colab": {
      "provenance": []
    }
  },
  "nbformat": 4,
  "nbformat_minor": 5
}