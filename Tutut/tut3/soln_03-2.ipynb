{
  "cells": [
    {
      "cell_type": "code",
      "execution_count": 1,
      "id": "initial_id",
      "metadata": {
        "collapsed": true,
        "ExecuteTime": {
          "end_time": "2024-01-08T11:16:05.747096303Z",
          "start_time": "2024-01-08T11:16:05.719113121Z"
        },
        "id": "initial_id"
      },
      "outputs": [],
      "source": [
        "from collections import defaultdict # specialized container datatypes\n",
        "from scipy import stats  # scientific computing and technical computing\n",
        "import numpy as np"
      ]
    },
    {
      "cell_type": "markdown",
      "source": [
        "# Question 4\n",
        "Consider tossing a fair 6 sided die. There are only six outcomes possible, omega = {1, 2, 3, 4, 5, 6}. Suppose we toss two dice and assume that each throw is *independent*.  "
      ],
      "metadata": {
        "collapsed": false,
        "id": "447152dcae160740"
      },
      "id": "447152dcae160740"
    },
    {
      "cell_type": "markdown",
      "source": [
        "## a) What is the probability that the sum of the dice equals seven?"
      ],
      "metadata": {
        "collapsed": false,
        "id": "3e66f8d379691df"
      },
      "id": "3e66f8d379691df"
    },
    {
      "cell_type": "markdown",
      "source": [
        "### i) List out all pairs of possible outcomes together with their sums from the two throws. Hint: enumerate all the items in `range(1, 7)`."
      ],
      "metadata": {
        "collapsed": false,
        "id": "9c5f25fb40ec3547"
      },
      "id": "9c5f25fb40ec3547"
    },
    {
      "cell_type": "code",
      "outputs": [
        {
          "output_type": "stream",
          "name": "stdout",
          "text": [
            "{(1, 1): 2, (1, 2): 3, (1, 3): 4, (1, 4): 5, (1, 5): 6, (1, 6): 7, (2, 1): 3, (2, 2): 4, (2, 3): 5, (2, 4): 6, (2, 5): 7, (2, 6): 8, (3, 1): 4, (3, 2): 5, (3, 3): 6, (3, 4): 7, (3, 5): 8, (3, 6): 9, (4, 1): 5, (4, 2): 6, (4, 3): 7, (4, 4): 8, (4, 5): 9, (4, 6): 10, (5, 1): 6, (5, 2): 7, (5, 3): 8, (5, 4): 9, (5, 5): 10, (5, 6): 11, (6, 1): 7, (6, 2): 8, (6, 3): 9, (6, 4): 10, (6, 5): 11, (6, 6): 12}\n"
          ]
        }
      ],
      "source": [
        "# Your code here\n",
        "\n",
        "# Create a dictionary d, that maps a tuple (i, j) representing the two dice, to their sum\n",
        "d={(i,j):i+j for i in range(1,7) for j in range(1,7)}\n",
        "print(d)"
      ],
      "metadata": {
        "ExecuteTime": {
          "end_time": "2024-01-08T11:16:05.776105858Z",
          "start_time": "2024-01-08T11:16:05.749898121Z"
        },
        "colab": {
          "base_uri": "https://localhost:8080/"
        },
        "id": "d943beefd6349a60",
        "outputId": "2c267699-8fe5-4753-d85d-2119e5c71407"
      },
      "id": "d943beefd6349a60",
      "execution_count": 2
    },
    {
      "cell_type": "markdown",
      "source": [
        "### ii) Collect all of the (a, b) pairs that sum to each of the possible values from two to twelve (including the sum equals seven). (Hint: use `defaultdict` to collect all of the (a, b) pairs that sum to each of the possible values from two to twelve.)"
      ],
      "metadata": {
        "collapsed": false,
        "id": "8881f207bfef135a"
      },
      "id": "8881f207bfef135a"
    },
    {
      "cell_type": "code",
      "outputs": [
        {
          "output_type": "stream",
          "name": "stdout",
          "text": [
            "defaultdict(<class 'list'>, {2: [(1, 1)], 3: [(1, 2), (2, 1)], 4: [(1, 3), (2, 2), (3, 1)], 5: [(1, 4), (2, 3), (3, 2), (4, 1)], 6: [(1, 5), (2, 4), (3, 3), (4, 2), (5, 1)], 7: [(1, 6), (2, 5), (3, 4), (4, 3), (5, 2), (6, 1)], 8: [(2, 6), (3, 5), (4, 4), (5, 3), (6, 2)], 9: [(3, 6), (4, 5), (5, 4), (6, 3)], 10: [(4, 6), (5, 5), (6, 4)], 11: [(5, 6), (6, 5)], 12: [(6, 6)]})\n"
          ]
        }
      ],
      "source": [
        "# Your code here\n",
        "# Here we use defaultdict because it supports creating new keys arbitrarily\n",
        "# We invert the dictionary d\n",
        "# dinv maps integer values (the sums in d) to lists of tuples of how those sums can be obtained\n",
        "dinv = defaultdict(list)\n",
        "for i,j in d.items(): dinv[j].append(i)\n",
        "\n",
        "print(dinv)"
      ],
      "metadata": {
        "ExecuteTime": {
          "end_time": "2024-01-08T11:16:05.788602701Z",
          "start_time": "2024-01-08T11:16:05.776463279Z"
        },
        "colab": {
          "base_uri": "https://localhost:8080/"
        },
        "id": "65f5b6e654489369",
        "outputId": "8a775928-712d-4379-d510-0dce3016edaa"
      },
      "id": "65f5b6e654489369",
      "execution_count": 3
    },
    {
      "cell_type": "code",
      "outputs": [
        {
          "output_type": "stream",
          "name": "stdout",
          "text": [
            "{2: 0.027777777777777776, 3: 0.05555555555555555, 4: 0.08333333333333333, 5: 0.1111111111111111, 6: 0.1388888888888889, 7: 0.16666666666666666, 8: 0.1388888888888889, 9: 0.1111111111111111, 10: 0.08333333333333333, 11: 0.05555555555555555, 12: 0.027777777777777776}\n"
          ]
        }
      ],
      "source": [
        "# Create yet another dictionary X\n",
        "# This maps the sums to the probability that those sums are obtained\n",
        "# We count how many ways each sum can be obtained and divide by 36\n",
        "X={i:len(j)/36 for i,j in dinv.items() }\n",
        "print(X)"
      ],
      "metadata": {
        "ExecuteTime": {
          "end_time": "2024-01-08T11:16:05.790760126Z",
          "start_time": "2024-01-08T11:16:05.788670321Z"
        },
        "colab": {
          "base_uri": "https://localhost:8080/"
        },
        "id": "30e13d74e23ace9d",
        "outputId": "90f72d7a-70dc-4967-dcea-390205555258"
      },
      "id": "30e13d74e23ace9d",
      "execution_count": 4
    },
    {
      "cell_type": "markdown",
      "source": [
        "## Alternative solution for Question 4a"
      ],
      "metadata": {
        "collapsed": false,
        "id": "1820db32d544ed7b"
      },
      "id": "1820db32d544ed7b"
    },
    {
      "cell_type": "code",
      "outputs": [
        {
          "output_type": "stream",
          "name": "stdout",
          "text": [
            "[((1, 1), 2), ((1, 2), 3), ((1, 3), 4), ((1, 4), 5), ((1, 5), 6), ((1, 6), 7), ((2, 1), 3), ((2, 2), 4), ((2, 3), 5), ((2, 4), 6), ((2, 5), 7), ((2, 6), 8), ((3, 1), 4), ((3, 2), 5), ((3, 3), 6), ((3, 4), 7), ((3, 5), 8), ((3, 6), 9), ((4, 1), 5), ((4, 2), 6), ((4, 3), 7), ((4, 4), 8), ((4, 5), 9), ((4, 6), 10), ((5, 1), 6), ((5, 2), 7), ((5, 3), 8), ((5, 4), 9), ((5, 5), 10), ((5, 6), 11), ((6, 1), 7), ((6, 2), 8), ((6, 3), 9), ((6, 4), 10), ((6, 5), 11), ((6, 6), 12)]\n",
            "[0.         0.02777778 0.05555556 0.08333333 0.11111111 0.13888889\n",
            " 0.16666667 0.13888889 0.11111111 0.08333333 0.05555556 0.02777778]\n"
          ]
        }
      ],
      "source": [
        "# Create a list of tuples, where each tuple contains:\n",
        "# [0]: a tuple (i, j) representing the two dice\n",
        "# [1]: the sum of the two dice\n",
        "pairs = [((i, j), i+j) for i in range (1, 7) for j in range (1, 7)]\n",
        "# for pair in pairs:\n",
        "#     print(pair)\n",
        "print(pairs)\n",
        "# Create an np array to store the number of times each possible sum occurs\n",
        "occurrences_of_outcomes = np.zeros(12)\n",
        "for pair in pairs:\n",
        "    occurrences_of_outcomes[pair[1] - 1] += 1 # increment the value in the appropriate index\n",
        "\n",
        "# print the probability of each outcome\n",
        "print(occurrences_of_outcomes / np.sum(occurrences_of_outcomes))"
      ],
      "metadata": {
        "ExecuteTime": {
          "end_time": "2024-01-08T11:16:05.806526357Z",
          "start_time": "2024-01-08T11:16:05.791187248Z"
        },
        "colab": {
          "base_uri": "https://localhost:8080/"
        },
        "id": "8d09e42e80a1cba7",
        "outputId": "301e2fae-bf37-4b2a-f3d9-52427338f326"
      },
      "id": "8d09e42e80a1cba7",
      "execution_count": 5
    },
    {
      "cell_type": "markdown",
      "source": [
        "## b) What is the probability that half the product of three dice will exceed their sum?"
      ],
      "metadata": {
        "collapsed": false,
        "id": "817f9d7b3f3833e0"
      },
      "id": "817f9d7b3f3833e0"
    },
    {
      "cell_type": "code",
      "outputs": [
        {
          "output_type": "stream",
          "name": "stdout",
          "text": [
            "{(1, 1, 1): False, (1, 1, 2): False, (1, 1, 3): False, (1, 1, 4): False, (1, 1, 5): False, (1, 1, 6): False, (1, 2, 1): False, (1, 2, 2): False, (1, 2, 3): False, (1, 2, 4): False, (1, 2, 5): False, (1, 2, 6): False, (1, 3, 1): False, (1, 3, 2): False, (1, 3, 3): False, (1, 3, 4): False, (1, 3, 5): False, (1, 3, 6): False, (1, 4, 1): False, (1, 4, 2): False, (1, 4, 3): False, (1, 4, 4): False, (1, 4, 5): False, (1, 4, 6): True, (1, 5, 1): False, (1, 5, 2): False, (1, 5, 3): False, (1, 5, 4): False, (1, 5, 5): True, (1, 5, 6): True, (1, 6, 1): False, (1, 6, 2): False, (1, 6, 3): False, (1, 6, 4): True, (1, 6, 5): True, (1, 6, 6): True, (2, 1, 1): False, (2, 1, 2): False, (2, 1, 3): False, (2, 1, 4): False, (2, 1, 5): False, (2, 1, 6): False, (2, 2, 1): False, (2, 2, 2): False, (2, 2, 3): False, (2, 2, 4): False, (2, 2, 5): True, (2, 2, 6): True, (2, 3, 1): False, (2, 3, 2): False, (2, 3, 3): True, (2, 3, 4): True, (2, 3, 5): True, (2, 3, 6): True, (2, 4, 1): False, (2, 4, 2): False, (2, 4, 3): True, (2, 4, 4): True, (2, 4, 5): True, (2, 4, 6): True, (2, 5, 1): False, (2, 5, 2): True, (2, 5, 3): True, (2, 5, 4): True, (2, 5, 5): True, (2, 5, 6): True, (2, 6, 1): False, (2, 6, 2): True, (2, 6, 3): True, (2, 6, 4): True, (2, 6, 5): True, (2, 6, 6): True, (3, 1, 1): False, (3, 1, 2): False, (3, 1, 3): False, (3, 1, 4): False, (3, 1, 5): False, (3, 1, 6): False, (3, 2, 1): False, (3, 2, 2): False, (3, 2, 3): True, (3, 2, 4): True, (3, 2, 5): True, (3, 2, 6): True, (3, 3, 1): False, (3, 3, 2): True, (3, 3, 3): True, (3, 3, 4): True, (3, 3, 5): True, (3, 3, 6): True, (3, 4, 1): False, (3, 4, 2): True, (3, 4, 3): True, (3, 4, 4): True, (3, 4, 5): True, (3, 4, 6): True, (3, 5, 1): False, (3, 5, 2): True, (3, 5, 3): True, (3, 5, 4): True, (3, 5, 5): True, (3, 5, 6): True, (3, 6, 1): False, (3, 6, 2): True, (3, 6, 3): True, (3, 6, 4): True, (3, 6, 5): True, (3, 6, 6): True, (4, 1, 1): False, (4, 1, 2): False, (4, 1, 3): False, (4, 1, 4): False, (4, 1, 5): False, (4, 1, 6): True, (4, 2, 1): False, (4, 2, 2): False, (4, 2, 3): True, (4, 2, 4): True, (4, 2, 5): True, (4, 2, 6): True, (4, 3, 1): False, (4, 3, 2): True, (4, 3, 3): True, (4, 3, 4): True, (4, 3, 5): True, (4, 3, 6): True, (4, 4, 1): False, (4, 4, 2): True, (4, 4, 3): True, (4, 4, 4): True, (4, 4, 5): True, (4, 4, 6): True, (4, 5, 1): False, (4, 5, 2): True, (4, 5, 3): True, (4, 5, 4): True, (4, 5, 5): True, (4, 5, 6): True, (4, 6, 1): True, (4, 6, 2): True, (4, 6, 3): True, (4, 6, 4): True, (4, 6, 5): True, (4, 6, 6): True, (5, 1, 1): False, (5, 1, 2): False, (5, 1, 3): False, (5, 1, 4): False, (5, 1, 5): True, (5, 1, 6): True, (5, 2, 1): False, (5, 2, 2): True, (5, 2, 3): True, (5, 2, 4): True, (5, 2, 5): True, (5, 2, 6): True, (5, 3, 1): False, (5, 3, 2): True, (5, 3, 3): True, (5, 3, 4): True, (5, 3, 5): True, (5, 3, 6): True, (5, 4, 1): False, (5, 4, 2): True, (5, 4, 3): True, (5, 4, 4): True, (5, 4, 5): True, (5, 4, 6): True, (5, 5, 1): True, (5, 5, 2): True, (5, 5, 3): True, (5, 5, 4): True, (5, 5, 5): True, (5, 5, 6): True, (5, 6, 1): True, (5, 6, 2): True, (5, 6, 3): True, (5, 6, 4): True, (5, 6, 5): True, (5, 6, 6): True, (6, 1, 1): False, (6, 1, 2): False, (6, 1, 3): False, (6, 1, 4): True, (6, 1, 5): True, (6, 1, 6): True, (6, 2, 1): False, (6, 2, 2): True, (6, 2, 3): True, (6, 2, 4): True, (6, 2, 5): True, (6, 2, 6): True, (6, 3, 1): False, (6, 3, 2): True, (6, 3, 3): True, (6, 3, 4): True, (6, 3, 5): True, (6, 3, 6): True, (6, 4, 1): True, (6, 4, 2): True, (6, 4, 3): True, (6, 4, 4): True, (6, 4, 5): True, (6, 4, 6): True, (6, 5, 1): True, (6, 5, 2): True, (6, 5, 3): True, (6, 5, 4): True, (6, 5, 5): True, (6, 5, 6): True, (6, 6, 1): True, (6, 6, 2): True, (6, 6, 3): True, (6, 6, 4): True, (6, 6, 5): True, (6, 6, 6): True}\n",
            "defaultdict(<class 'list'>, {False: [(1, 1, 1), (1, 1, 2), (1, 1, 3), (1, 1, 4), (1, 1, 5), (1, 1, 6), (1, 2, 1), (1, 2, 2), (1, 2, 3), (1, 2, 4), (1, 2, 5), (1, 2, 6), (1, 3, 1), (1, 3, 2), (1, 3, 3), (1, 3, 4), (1, 3, 5), (1, 3, 6), (1, 4, 1), (1, 4, 2), (1, 4, 3), (1, 4, 4), (1, 4, 5), (1, 5, 1), (1, 5, 2), (1, 5, 3), (1, 5, 4), (1, 6, 1), (1, 6, 2), (1, 6, 3), (2, 1, 1), (2, 1, 2), (2, 1, 3), (2, 1, 4), (2, 1, 5), (2, 1, 6), (2, 2, 1), (2, 2, 2), (2, 2, 3), (2, 2, 4), (2, 3, 1), (2, 3, 2), (2, 4, 1), (2, 4, 2), (2, 5, 1), (2, 6, 1), (3, 1, 1), (3, 1, 2), (3, 1, 3), (3, 1, 4), (3, 1, 5), (3, 1, 6), (3, 2, 1), (3, 2, 2), (3, 3, 1), (3, 4, 1), (3, 5, 1), (3, 6, 1), (4, 1, 1), (4, 1, 2), (4, 1, 3), (4, 1, 4), (4, 1, 5), (4, 2, 1), (4, 2, 2), (4, 3, 1), (4, 4, 1), (4, 5, 1), (5, 1, 1), (5, 1, 2), (5, 1, 3), (5, 1, 4), (5, 2, 1), (5, 3, 1), (5, 4, 1), (6, 1, 1), (6, 1, 2), (6, 1, 3), (6, 2, 1), (6, 3, 1)], True: [(1, 4, 6), (1, 5, 5), (1, 5, 6), (1, 6, 4), (1, 6, 5), (1, 6, 6), (2, 2, 5), (2, 2, 6), (2, 3, 3), (2, 3, 4), (2, 3, 5), (2, 3, 6), (2, 4, 3), (2, 4, 4), (2, 4, 5), (2, 4, 6), (2, 5, 2), (2, 5, 3), (2, 5, 4), (2, 5, 5), (2, 5, 6), (2, 6, 2), (2, 6, 3), (2, 6, 4), (2, 6, 5), (2, 6, 6), (3, 2, 3), (3, 2, 4), (3, 2, 5), (3, 2, 6), (3, 3, 2), (3, 3, 3), (3, 3, 4), (3, 3, 5), (3, 3, 6), (3, 4, 2), (3, 4, 3), (3, 4, 4), (3, 4, 5), (3, 4, 6), (3, 5, 2), (3, 5, 3), (3, 5, 4), (3, 5, 5), (3, 5, 6), (3, 6, 2), (3, 6, 3), (3, 6, 4), (3, 6, 5), (3, 6, 6), (4, 1, 6), (4, 2, 3), (4, 2, 4), (4, 2, 5), (4, 2, 6), (4, 3, 2), (4, 3, 3), (4, 3, 4), (4, 3, 5), (4, 3, 6), (4, 4, 2), (4, 4, 3), (4, 4, 4), (4, 4, 5), (4, 4, 6), (4, 5, 2), (4, 5, 3), (4, 5, 4), (4, 5, 5), (4, 5, 6), (4, 6, 1), (4, 6, 2), (4, 6, 3), (4, 6, 4), (4, 6, 5), (4, 6, 6), (5, 1, 5), (5, 1, 6), (5, 2, 2), (5, 2, 3), (5, 2, 4), (5, 2, 5), (5, 2, 6), (5, 3, 2), (5, 3, 3), (5, 3, 4), (5, 3, 5), (5, 3, 6), (5, 4, 2), (5, 4, 3), (5, 4, 4), (5, 4, 5), (5, 4, 6), (5, 5, 1), (5, 5, 2), (5, 5, 3), (5, 5, 4), (5, 5, 5), (5, 5, 6), (5, 6, 1), (5, 6, 2), (5, 6, 3), (5, 6, 4), (5, 6, 5), (5, 6, 6), (6, 1, 4), (6, 1, 5), (6, 1, 6), (6, 2, 2), (6, 2, 3), (6, 2, 4), (6, 2, 5), (6, 2, 6), (6, 3, 2), (6, 3, 3), (6, 3, 4), (6, 3, 5), (6, 3, 6), (6, 4, 1), (6, 4, 2), (6, 4, 3), (6, 4, 4), (6, 4, 5), (6, 4, 6), (6, 5, 1), (6, 5, 2), (6, 5, 3), (6, 5, 4), (6, 5, 5), (6, 5, 6), (6, 6, 1), (6, 6, 2), (6, 6, 3), (6, 6, 4), (6, 6, 5), (6, 6, 6)]})\n",
            "{False: 0.37037037037037035, True: 0.6296296296296297}\n"
          ]
        }
      ],
      "source": [
        "# Your code here\n",
        "# create dictionary, mapping tuple of 3 dice values to T/F value (if it meets the requirement)\n",
        "d={(i,j,k):((i*j*k)/2>i+j+k) for i in range(1,7) for j in range(1,7) for k in range(1,7)}\n",
        "print(d)\n",
        "# invert the dictionary: turn keys into values and vice versa\n",
        "dinv = defaultdict(list)\n",
        "for i,j in d.items(): dinv[j].append(i)\n",
        "print(dinv)\n",
        "\n",
        "# create a new dictionary, mapping keys T/F to values representing probability of that outcome\n",
        "X={i:len(j)/6.0**3 for i,j in dinv.items() }\n",
        "print(X)"
      ],
      "metadata": {
        "ExecuteTime": {
          "end_time": "2024-01-08T11:16:05.839128471Z",
          "start_time": "2024-01-08T11:16:05.835983604Z"
        },
        "colab": {
          "base_uri": "https://localhost:8080/"
        },
        "id": "7fe3d6e9d5ec0a70",
        "outputId": "995461eb-f5c9-4b63-818c-c7ea2ee1271b"
      },
      "id": "7fe3d6e9d5ec0a70",
      "execution_count": 6
    },
    {
      "cell_type": "markdown",
      "source": [
        "## Alternative solution for Question 4b"
      ],
      "metadata": {
        "collapsed": false,
        "id": "1f1d0031f2b92082"
      },
      "id": "1f1d0031f2b92082"
    },
    {
      "cell_type": "code",
      "outputs": [
        {
          "output_type": "stream",
          "name": "stdout",
          "text": [
            "[False, False, False, False, False, False, False, False, False, False, False, False, False, False, False, False, False, False, False, False, False, False, False, True, False, False, False, False, True, True, False, False, False, True, True, True, False, False, False, False, False, False, False, False, False, False, True, True, False, False, True, True, True, True, False, False, True, True, True, True, False, True, True, True, True, True, False, True, True, True, True, True, False, False, False, False, False, False, False, False, True, True, True, True, False, True, True, True, True, True, False, True, True, True, True, True, False, True, True, True, True, True, False, True, True, True, True, True, False, False, False, False, False, True, False, False, True, True, True, True, False, True, True, True, True, True, False, True, True, True, True, True, False, True, True, True, True, True, True, True, True, True, True, True, False, False, False, False, True, True, False, True, True, True, True, True, False, True, True, True, True, True, False, True, True, True, True, True, True, True, True, True, True, True, True, True, True, True, True, True, False, False, False, True, True, True, False, True, True, True, True, True, False, True, True, True, True, True, True, True, True, True, True, True, True, True, True, True, True, True, True, True, True, True, True, True]\n",
            "0.6296296296296297\n"
          ]
        }
      ],
      "source": [
        "# ans is a list containing boolean (T/F) values corresponding to the condition in the question\n",
        "# Because Python is Python you can actually put all the for loops in one line like this\n",
        "ans = [(i+j+k < (i*j*k)/2) for i in range(1, 7) for j in range(1, 7) for k in range(1, 7)]\n",
        "print(ans)\n",
        "print(sum(ans)/len(ans))"
      ],
      "metadata": {
        "ExecuteTime": {
          "end_time": "2024-01-08T11:16:05.839566662Z",
          "start_time": "2024-01-08T11:16:05.836127644Z"
        },
        "colab": {
          "base_uri": "https://localhost:8080/"
        },
        "id": "4741f458f7f2558f",
        "outputId": "391997db-2391-4aa3-f7df-7c61c7e14900"
      },
      "id": "4741f458f7f2558f",
      "execution_count": 7
    },
    {
      "cell_type": "markdown",
      "source": [
        "# Question 5\n",
        "Assuming a normal (Gaussian) distribution with mean 30 ohms and standard deviation of 1.8 ohms, determine the probability that a resistor coming off the production line will be within the range of 28 to 33 ohms. (Hint: use `stats.norm.cdf` from `scipy.stats`.)"
      ],
      "metadata": {
        "collapsed": false,
        "id": "53138847e0bb4e1"
      },
      "id": "53138847e0bb4e1"
    },
    {
      "cell_type": "code",
      "outputs": [
        {
          "output_type": "stream",
          "name": "stdout",
          "text": [
            "0.9522096477271853\n",
            "0.13326026290250537\n",
            "0.8189493848246799\n"
          ]
        }
      ],
      "source": [
        "# Your code here\n",
        "\n",
        "MU_VAL = 30\n",
        "SIGMA_VAL = 1.8\n",
        "\n",
        "lower_value = stats.norm.cdf(28, MU_VAL, SIGMA_VAL) # probability that x < 28\n",
        "upper_value = stats.norm.cdf(33, MU_VAL, SIGMA_VAL) # probability that x < 33\n",
        "\n",
        "print(upper_value)\n",
        "print(lower_value)\n",
        "print(upper_value - lower_value) # probability that 28 < x < 33"
      ],
      "metadata": {
        "ExecuteTime": {
          "end_time": "2024-01-08T11:16:05.839892863Z",
          "start_time": "2024-01-08T11:16:05.836237454Z"
        },
        "colab": {
          "base_uri": "https://localhost:8080/"
        },
        "id": "c8f4721f2bcdebf0",
        "outputId": "e0601f6f-8b0d-4ce3-d446-040f3b88acae"
      },
      "id": "c8f4721f2bcdebf0",
      "execution_count": null
    }
  ],
  "metadata": {
    "kernelspec": {
      "display_name": "Python 3",
      "language": "python",
      "name": "python3"
    },
    "language_info": {
      "codemirror_mode": {
        "name": "ipython",
        "version": 2
      },
      "file_extension": ".py",
      "mimetype": "text/x-python",
      "name": "python",
      "nbconvert_exporter": "python",
      "pygments_lexer": "ipython2",
      "version": "2.7.6"
    },
    "colab": {
      "provenance": []
    }
  },
  "nbformat": 4,
  "nbformat_minor": 5
}