{
 "cells": [
  {
   "cell_type": "markdown",
   "metadata": {},
   "source": [
    "## Q1"
   ]
  },
  {
   "cell_type": "code",
   "execution_count": 2,
   "metadata": {},
   "outputs": [],
   "source": [
    "import numpy as np\n"
   ]
  },
  {
   "cell_type": "code",
   "execution_count": 12,
   "metadata": {},
   "outputs": [
    {
     "name": "stdout",
     "output_type": "stream",
     "text": [
      "[[1 1]\n",
      " [3 4]]\n",
      "0.9999999999999998\n",
      "[[ 4. -1.]\n",
      " [-3.  1.]]\n",
      "[[-1.]\n",
      " [ 1.]]\n"
     ]
    }
   ],
   "source": [
    "m_list = [[1,1],[3,4]]\n",
    "\n",
    "y = np.array([[0],[1]])\n",
    "\n",
    "X = np.array(m_list)\n",
    "\n",
    "print(X)\n",
    "\n",
    "det_X = np.linalg.det(X)\n",
    "print(det_X)\n",
    "inv_X = np.linalg.inv(X)\n",
    "print(inv_X)\n",
    "\n",
    "# w = inv_X.y\n",
    "w = inv_X.dot(y)\n",
    "print(w)"
   ]
  },
  {
   "cell_type": "markdown",
   "metadata": {},
   "source": [
    "### - The <span style=\"color:blue\">np.array()</span> function is used to create an array\n",
    "### - The <span style=\"color:blue\">np.linalg.inv()</span> function is used to find inverse of a matrix\n",
    "### - The <span style=\"color:blue\">np.linalg.det()</span> function is used to find determinant of a matrix\n",
    "### - The <span style=\"color:blue\">dot()</span> function is used to find dot product of two arrays\n"
   ]
  },
  {
   "cell_type": "markdown",
   "metadata": {},
   "source": [
    "## Q3"
   ]
  },
  {
   "cell_type": "code",
   "execution_count": 19,
   "metadata": {},
   "outputs": [
    {
     "name": "stdout",
     "output_type": "stream",
     "text": [
      "[[ 1  2  1]\n",
      " [ 2  4 -1]]\n",
      "[[ 6  9]\n",
      " [ 9 21]]\n",
      "44.99999999999999\n",
      "[[ 0.46666667 -0.2       ]\n",
      " [-0.2         0.13333333]]\n",
      "[[ 0.06666667  0.13333333  0.66666667]\n",
      " [ 0.06666667  0.13333333 -0.33333333]]\n",
      "[[ 0.68]\n",
      " [-0.32]]\n"
     ]
    }
   ],
   "source": [
    "m_list = [[1,2],[2,4],[1,-1]]\n",
    "y = np.array([[0],[0.1], [1]])\n",
    "X = np.array(m_list)\n",
    "\n",
    "tps_X = X.transpose()\n",
    "print(tps_X)\n",
    "\n",
    "XTX= tps_X.dot(X)\n",
    "print(XTX)\n",
    "\n",
    "det_XTX = np.linalg.det(XTX)\n",
    "print(det_XTX)\n",
    "\n",
    "inv_XTX = np.linalg.inv(XTX)\n",
    "print(inv_XTX)\n",
    "\n",
    "invXTX_XT= inv_XTX.dot(tps_X)\n",
    "print(invXTX_XT)\n",
    "\n",
    "# solution for w\n",
    "\n",
    "w = invXTX_XT.dot(y)\n",
    "print(w)"
   ]
  },
  {
   "cell_type": "markdown",
   "metadata": {},
   "source": [
    "### - The <span style=\"color:blue\">np.transpose()</span> function is used to find the transpose of a matrix\n"
   ]
  },
  {
   "cell_type": "markdown",
   "metadata": {},
   "source": [
    "## Q4"
   ]
  },
  {
   "cell_type": "code",
   "execution_count": 25,
   "metadata": {},
   "outputs": [
    {
     "name": "stdout",
     "output_type": "stream",
     "text": [
      "[[ 1  1  1]\n",
      " [ 0 -1  1]\n",
      " [ 1  1  0]\n",
      " [ 0 -1  0]]\n",
      "[[2 2 1]\n",
      " [2 4 0]\n",
      " [1 0 2]]\n",
      "4.0\n",
      "[[ 2.   -1.   -1.  ]\n",
      " [-1.    0.75  0.5 ]\n",
      " [-1.    0.5   1.  ]]\n",
      "[[ 0.    0.25  0.5 ]\n",
      " [ 0.   -0.25  0.5 ]\n",
      " [ 1.   -0.25 -0.5 ]\n",
      " [ 1.   -0.75 -0.5 ]]\n",
      "[[0.5]\n",
      " [0.5]\n",
      " [0.5]\n",
      " [0.5]]\n"
     ]
    }
   ],
   "source": [
    "# a. Underdetermined System (m<d)\n",
    "# X is not invertible but we have to chekc if X_XT is invertible\n",
    "\n",
    "m_list = [[1,0,1,0],[1,-1,1,-1],[1,1,0,0]]\n",
    "X = np.array(m_list)\n",
    "y = np.array([[1],[0],[1]])\n",
    "\n",
    "# Step 1 : Find X Transpose\n",
    "\n",
    "tps_X = X.transpose()\n",
    "print(tps_X)\n",
    "X_XT = X.dot(tps_X)\n",
    "print(X_XT)\n",
    "\n",
    "det_XXT = np.linalg.det(X_XT)\n",
    "print(det_XXT)\n",
    "\n",
    "inv_XXT = np.linalg.inv(X_XT)\n",
    "print(inv_XXT)\n",
    "\n",
    "XT_invXXT = tps_X.dot(inv_XXT)\n",
    "print(XT_invXXT)\n",
    "\n",
    "w = XT_invXXT.dot(y)\n",
    "print(w)"
   ]
  },
  {
   "cell_type": "markdown",
   "metadata": {},
   "source": [
    "### Q5"
   ]
  },
  {
   "cell_type": "code",
   "execution_count": 27,
   "metadata": {},
   "outputs": [
    {
     "name": "stdout",
     "output_type": "stream",
     "text": [
      "-3.330669073875464e-16\n"
     ]
    }
   ],
   "source": [
    "# 5.a - Even \n",
    "\n",
    "# 5.b \n",
    "\n",
    "m_list = ([1,2],(3,6))\n",
    "X = np.array(m_list)\n",
    "det_X = np.linalg.det(X)\n",
    "print(det_X)\n",
    "\n",
    "# the determinant is approximately zero so  we can conclude that X is not invertible\n",
    "\n",
    "\n",
    "#5.c w has no solution"
   ]
  },
  {
   "cell_type": "markdown",
   "metadata": {},
   "source": [
    "## Q6"
   ]
  },
  {
   "cell_type": "code",
   "execution_count": 34,
   "metadata": {},
   "outputs": [
    {
     "name": "stdout",
     "output_type": "stream",
     "text": [
      "[[ 1  2  1]\n",
      " [ 2  4 -1]]\n",
      "[[ 6  9]\n",
      " [ 9 21]]\n",
      "44.99999999999999\n",
      "[[ 0.46666667 -0.2       ]\n",
      " [-0.2         0.13333333]]\n",
      "[[ 0.06666667  0.13333333  0.66666667]\n",
      " [ 0.06666667  0.13333333 -0.33333333]]\n",
      "[[0]\n",
      " [1]]\n",
      "[[ 0.06666667  0.13333333 -0.33333333]]\n"
     ]
    }
   ],
   "source": [
    "#6. Under detemined system since m>d\n",
    "m_list=[[1,2],[2,4],[1,-1]]\n",
    "X = np.array(m_list)\n",
    "y = np.array ([[0],[1]])\n",
    "\n",
    "tps_X = X.transpose()\n",
    "print(tps_X)\n",
    "\n",
    "XTX= tps_X.dot(X)\n",
    "print(XTX)\n",
    "\n",
    "det_XTX = np.linalg.det(XTX)\n",
    "print(det_XTX)\n",
    "\n",
    "inv_XTX = np.linalg.inv(XTX)\n",
    "print(inv_XTX)\n",
    "\n",
    "invXTX_XT= inv_XTX.dot(tps_X)\n",
    "print(invXTX_XT)\n",
    "\n",
    "# solution for w\n",
    "print(y)\n",
    "w = y.transpose().dot(invXTX_XT)\n",
    "print(w)"
   ]
  },
  {
   "cell_type": "markdown",
   "metadata": {},
   "source": [
    "### Q7"
   ]
  },
  {
   "cell_type": "code",
   "execution_count": 35,
   "metadata": {},
   "outputs": [
    {
     "name": "stdout",
     "output_type": "stream",
     "text": [
      "[[2 0]\n",
      " [0 0]\n",
      " [0 1]]\n",
      "[[4 0 0]\n",
      " [0 0 0]\n",
      " [0 0 1]]\n",
      "0.0\n"
     ]
    }
   ],
   "source": [
    "m_list=[[2,0,0],[0,0,1]]\n",
    "X = np.array(m_list)\n",
    "\n",
    "tps_X = X.transpose()\n",
    "print(tps_X)\n",
    "\n",
    "XTX= tps_X.dot(X)\n",
    "print(XTX)\n",
    "\n",
    "det_XTX = np.linalg.det(XTX)\n",
    "print(det_XTX)\n",
    "\n",
    "## XTX is not invertible since det(XTX) =0 hence no left inverse"
   ]
  },
  {
   "cell_type": "markdown",
   "metadata": {},
   "source": [
    "## Q8"
   ]
  },
  {
   "cell_type": "code",
   "execution_count": 43,
   "metadata": {},
   "outputs": [
    {
     "name": "stdout",
     "output_type": "stream",
     "text": [
      "[[1 2 3]\n",
      " [4 5 6]]\n",
      "[[1 4]\n",
      " [2 5]\n",
      " [3 6]]\n",
      "[[17 22 27]\n",
      " [22 29 36]\n",
      " [27 36 45]]\n",
      "0.0\n",
      "54.00000000000001\n"
     ]
    }
   ],
   "source": [
    "m_list=[[1,2,3],[4,5,6]]\n",
    "A = np.array(m_list)\n",
    "print(A)\n",
    "# 8.a - Not invertible --> (False)\n",
    "#8.d  - No Determinant -->( True)\n",
    "#8e - Since 5.d is true --> (False)\n",
    "\n",
    "# calculation for left inverse --> AT_A should be invertible\n",
    "tps_A = A.transpose()\n",
    "print(tps_A)\n",
    "\n",
    "ATA= tps_A.dot(A)\n",
    "print(ATA)\n",
    "\n",
    "det_ATA = np.linalg.det(ATA)\n",
    "print(det_ATA)\n",
    "\n",
    "\n",
    "# 8.b det(XT_X)=0 --> NO Left inverse -->  (False)\n",
    "\n",
    "#8.c To check for right invertible\n",
    "\n",
    "A_AT = A. dot(tps_A)\n",
    "det_AAT = np.linalg.det(A_AT)\n",
    "print(det_AAT)\n",
    "\n",
    "#8 d A_AT is invertible --> True"
   ]
  },
  {
   "cell_type": "code",
   "execution_count": null,
   "metadata": {},
   "outputs": [],
   "source": []
  }
 ],
 "metadata": {
  "kernelspec": {
   "display_name": "Python 3",
   "language": "python",
   "name": "python3"
  },
  "language_info": {
   "codemirror_mode": {
    "name": "ipython",
    "version": 3
   },
   "file_extension": ".py",
   "mimetype": "text/x-python",
   "name": "python",
   "nbconvert_exporter": "python",
   "pygments_lexer": "ipython3",
   "version": "3.7.3"
  }
 },
 "nbformat": 4,
 "nbformat_minor": 4
}
